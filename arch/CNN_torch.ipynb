{
  "cells": [
    {
      "cell_type": "markdown",
      "metadata": {
        "colab_type": "text",
        "id": "view-in-github"
      },
      "source": [
        "<a href=\"https://colab.research.google.com/github/chellick/Super_resolution/blob/main/CNN_torch.ipynb\" target=\"_parent\"><img src=\"https://colab.research.google.com/assets/colab-badge.svg\" alt=\"Open In Colab\"/></a>"
      ]
    },
    {
      "cell_type": "code",
      "execution_count": 1,
      "metadata": {
        "id": "s2VFwyPpGZy2"
      },
      "outputs": [
        {
          "name": "stdout",
          "output_type": "stream",
          "text": [
            "WARNING:tensorflow:From c:\\python\\GitHub\\Super_resolution\\venv\\Lib\\site-packages\\keras\\src\\losses.py:2976: The name tf.losses.sparse_softmax_cross_entropy is deprecated. Please use tf.compat.v1.losses.sparse_softmax_cross_entropy instead.\n",
            "\n"
          ]
        }
      ],
      "source": [
        "import torch\n",
        "import numpy as np\n",
        "import matplotlib.pyplot as plt\n",
        "from tensorflow.keras.datasets import cifar10 #ignore\n",
        "import tensorflow as tf\n",
        "from torch import nn\n",
        "from torch.utils.data import DataLoader, TensorDataset\n",
        "import time"
      ]
    },
    {
      "cell_type": "code",
      "execution_count": null,
      "metadata": {},
      "outputs": [],
      "source": []
    },
    {
      "cell_type": "code",
      "execution_count": null,
      "metadata": {
        "colab": {
          "base_uri": "https://localhost:8080/"
        },
        "id": "txrYhE6i0u3A",
        "outputId": "c02e9d26-30fe-4956-c48d-f2fb9dc3827a"
      },
      "outputs": [
        {
          "name": "stdout",
          "output_type": "stream",
          "text": [
            "Downloading data from https://www.cs.toronto.edu/~kriz/cifar-10-python.tar.gz\n",
            "170498071/170498071 [==============================] - 14s 0us/step\n"
          ]
        }
      ],
      "source": [
        "(x_train, _), (x_test, _) = cifar10.load_data()\n",
        "x_train = x_train.astype('float32') / 255.0\n",
        "x_test = x_test.astype('float32') / 255.0"
      ]
    },
    {
      "cell_type": "code",
      "execution_count": null,
      "metadata": {
        "id": "R24ZRUDJJYVP"
      },
      "outputs": [],
      "source": [
        "x_train_lr = torch.tensor(np.array(tf.image.resize(x_train, (x_train.shape[1] // 2, x_train.shape[2] // 2))), dtype=torch.float32)[:7000]\n",
        "x_test_lr = torch.tensor(np.array(tf.image.resize(x_test, (x_test.shape[1] // 2, x_test.shape[2] // 2))), dtype=torch.float32)[:3000]\n",
        "\n",
        "# Convert to float32 for x_train_hr and x_test_hr\n",
        "x_train_hr = torch.tensor(x_train, dtype=torch.float32)[:7000]\n",
        "x_test_hr = torch.tensor(x_test, dtype=torch.float32)[:3000]\n",
        "\n",
        "x_train_lr = x_train_lr.permute(0, 3, 1, 2)\n",
        "x_test_lr = x_test_lr.permute(0, 3, 1, 2)\n",
        "\n",
        "x_train_hr = x_train_hr.permute(0, 3, 1, 2)\n",
        "x_test_hr = x_test_hr.permute(0, 3, 1, 2)\n",
        "\n",
        "\n",
        "train_dataset = TensorDataset(x_train_lr, x_train_hr)\n",
        "train_loader = DataLoader(train_dataset, batch_size=64, shuffle=True)"
      ]
    },
    {
      "cell_type": "code",
      "execution_count": null,
      "metadata": {
        "id": "7DdAhhBcJlZS"
      },
      "outputs": [],
      "source": [
        "from torch.nn.modules.upsampling import Upsample\n",
        "class CNN(nn.Module):\n",
        "  def __init__(self):\n",
        "    super(CNN, self).__init__()\n",
        "    self.layers = nn.Sequential(\n",
        "            nn.Conv2d(in_channels=3, out_channels=32, kernel_size=(3,3), padding=\"same\"),\n",
        "            nn.ReLU(),\n",
        "            nn.Conv2d(in_channels=32, out_channels=32, kernel_size=(3,3), padding=\"same\"),\n",
        "            nn.BatchNorm2d(32),\n",
        "            nn.ReLU(),\n",
        "            nn.Conv2d(in_channels=32, out_channels=3, kernel_size=(3,3), padding=\"same\"),\n",
        "            nn.BatchNorm2d(3),\n",
        "            nn.ReLU(),\n",
        "            nn.Conv2d(in_channels=3, out_channels=3, kernel_size=(3,3), padding=\"same\"),\n",
        "            nn.Upsample(size=(32, 32), mode='bilinear'),\n",
        "    )\n",
        "\n",
        "\n",
        "  def forward(self, x):\n",
        "    return self.layers(x)\n"
      ]
    },
    {
      "cell_type": "code",
      "execution_count": null,
      "metadata": {
        "colab": {
          "base_uri": "https://localhost:8080/"
        },
        "id": "_X_nHIYiM9x5",
        "outputId": "87831f07-da9c-433c-ab0f-d44868f6e91c"
      },
      "outputs": [
        {
          "data": {
            "text/plain": [
              "<bound method Module.parameters of CNN(\n",
              "  (layers): Sequential(\n",
              "    (0): Conv2d(3, 32, kernel_size=(3, 3), stride=(1, 1), padding=same)\n",
              "    (1): ReLU()\n",
              "    (2): Conv2d(32, 32, kernel_size=(3, 3), stride=(1, 1), padding=same)\n",
              "    (3): BatchNorm2d(32, eps=1e-05, momentum=0.1, affine=True, track_running_stats=True)\n",
              "    (4): ReLU()\n",
              "    (5): Conv2d(32, 3, kernel_size=(3, 3), stride=(1, 1), padding=same)\n",
              "    (6): BatchNorm2d(3, eps=1e-05, momentum=0.1, affine=True, track_running_stats=True)\n",
              "    (7): ReLU()\n",
              "    (8): Conv2d(3, 3, kernel_size=(3, 3), stride=(1, 1), padding=same)\n",
              "    (9): Upsample(size=(32, 32), mode='bilinear')\n",
              "  )\n",
              ")>"
            ]
          },
          "execution_count": 24,
          "metadata": {},
          "output_type": "execute_result"
        }
      ],
      "source": [
        "model = CNN()\n",
        "loss_fn = nn.L1Loss()\n",
        "optimizer = torch.optim.Adam(model.parameters(), lr=0.0001)\n",
        "model.parameters"
      ]
    },
    {
      "cell_type": "code",
      "execution_count": null,
      "metadata": {
        "colab": {
          "base_uri": "https://localhost:8080/"
        },
        "id": "SFyNLIZvRIH7",
        "outputId": "9d015e87-f45d-4626-cfb0-f437748ae3e5"
      },
      "outputs": [
        {
          "data": {
            "text/plain": [
              "torch.Size([1, 32, 32, 3])"
            ]
          },
          "execution_count": 25,
          "metadata": {},
          "output_type": "execute_result"
        }
      ],
      "source": [
        "prediction = model(x_train_lr[:1])\n",
        "prediction = prediction.permute(0, 2, 3, 1)\n",
        "prediction.shape"
      ]
    },
    {
      "cell_type": "code",
      "execution_count": null,
      "metadata": {
        "colab": {
          "base_uri": "https://localhost:8080/",
          "height": 467
        },
        "id": "VsKkKkbUX3Fi",
        "outputId": "05cb4cb5-cb3c-4591-879b-54bb491a7eb7"
      },
      "outputs": [
        {
          "name": "stderr",
          "output_type": "stream",
          "text": [
            "WARNING:matplotlib.image:Clipping input data to the valid range for imshow with RGB data ([0..1] for floats or [0..255] for integers).\n"
          ]
        },
        {
          "data": {
            "image/png": "[encoded data removed]",
            "text/plain": [
              "<Figure size 640x480 with 1 Axes>"
            ]
          },
          "metadata": {},
          "output_type": "display_data"
        }
      ],
      "source": [
        "plt.imshow(prediction[0].detach().numpy())\n",
        "plt.show()"
      ]
    },
    {
      "cell_type": "code",
      "execution_count": null,
      "metadata": {
        "colab": {
          "base_uri": "https://localhost:8080/"
        },
        "id": "mXqSW7X3M2Y5",
        "outputId": "83ef3826-769d-48d6-84ec-7d2fbc98ef2d"
      },
      "outputs": [
        {
          "name": "stdout",
          "output_type": "stream",
          "text": [
            " Loss: 0.2969021797180176 \n",
            " Epoch: 0 \n",
            " Time: 4.763331174850464 \n",
            "\n",
            " Loss: 0.25435441732406616 \n",
            " Epoch: 1 \n",
            " Time: 3.736159324645996 \n",
            "\n",
            " Loss: 0.14900167286396027 \n",
            " Epoch: 2 \n",
            " Time: 3.7872073650360107 \n",
            "\n",
            " Loss: 0.13812586665153503 \n",
            " Epoch: 3 \n",
            " Time: 4.662527084350586 \n",
            "\n",
            " Loss: 0.09852062165737152 \n",
            " Epoch: 4 \n",
            " Time: 3.9190611839294434 \n",
            "\n",
            " Loss: 0.08666941523551941 \n",
            " Epoch: 5 \n",
            " Time: 3.819526195526123 \n",
            "\n",
            " Loss: 0.08888270705938339 \n",
            " Epoch: 6 \n",
            " Time: 4.5220184326171875 \n",
            "\n",
            " Loss: 0.08469505608081818 \n",
            " Epoch: 7 \n",
            " Time: 3.909118890762329 \n",
            "\n",
            " Loss: 0.07463256269693375 \n",
            " Epoch: 8 \n",
            " Time: 3.781724214553833 \n",
            "\n",
            " Loss: 0.08387655019760132 \n",
            " Epoch: 9 \n",
            " Time: 4.244129657745361 \n",
            "\n",
            " Loss: 0.07469023764133453 \n",
            " Epoch: 10 \n",
            " Time: 4.2007646560668945 \n",
            "\n",
            " Loss: 0.0769849419593811 \n",
            " Epoch: 11 \n",
            " Time: 3.794578790664673 \n",
            "\n",
            " Loss: 0.06881865859031677 \n",
            " Epoch: 12 \n",
            " Time: 4.201437473297119 \n",
            "\n",
            " Loss: 0.06745510548353195 \n",
            " Epoch: 13 \n",
            " Time: 4.563258409500122 \n",
            "\n",
            " Loss: 0.06141873076558113 \n",
            " Epoch: 14 \n",
            " Time: 4.17953085899353 \n",
            "\n",
            " Loss: 0.07337471842765808 \n",
            " Epoch: 15 \n",
            " Time: 4.619033575057983 \n",
            "\n",
            " Loss: 0.062438759952783585 \n",
            " Epoch: 16 \n",
            " Time: 3.9198272228240967 \n",
            "\n",
            " Loss: 0.05974040925502777 \n",
            " Epoch: 17 \n",
            " Time: 3.707094192504883 \n",
            "\n",
            " Loss: 0.06445678323507309 \n",
            " Epoch: 18 \n",
            " Time: 4.439330577850342 \n",
            "\n",
            " Loss: 0.06789024919271469 \n",
            " Epoch: 19 \n",
            " Time: 4.123634099960327 \n",
            "\n",
            " Loss: 0.062443096190690994 \n",
            " Epoch: 20 \n",
            " Time: 3.7510578632354736 \n",
            "\n",
            " Loss: 0.05948315188288689 \n",
            " Epoch: 21 \n",
            " Time: 4.414841890335083 \n",
            "\n",
            " Loss: 0.06293988227844238 \n",
            " Epoch: 22 \n",
            " Time: 4.0988686084747314 \n",
            "\n",
            " Loss: 0.06014801561832428 \n",
            " Epoch: 23 \n",
            " Time: 3.7518882751464844 \n",
            "\n",
            " Loss: 0.06315652281045914 \n",
            " Epoch: 24 \n",
            " Time: 4.23650860786438 \n",
            "\n",
            " Loss: 0.05827416852116585 \n",
            " Epoch: 25 \n",
            " Time: 4.272110939025879 \n",
            "\n",
            " Loss: 0.057638127356767654 \n",
            " Epoch: 26 \n",
            " Time: 3.870828151702881 \n",
            "\n",
            " Loss: 0.05543455481529236 \n",
            " Epoch: 27 \n",
            " Time: 4.3362040519714355 \n",
            "\n",
            " Loss: 0.06183934211730957 \n",
            " Epoch: 28 \n",
            " Time: 4.342348575592041 \n",
            "\n",
            " Loss: 0.06950397044420242 \n",
            " Epoch: 29 \n",
            " Time: 3.790632724761963 \n",
            "\n",
            " Loss: 0.05834464356303215 \n",
            " Epoch: 30 \n",
            " Time: 4.309391498565674 \n",
            "\n",
            " Loss: 0.05682048574090004 \n",
            " Epoch: 31 \n",
            " Time: 4.353807687759399 \n",
            "\n",
            " Loss: 0.057626351714134216 \n",
            " Epoch: 32 \n",
            " Time: 3.8533215522766113 \n",
            "\n",
            " Loss: 0.057365722954273224 \n",
            " Epoch: 33 \n",
            " Time: 4.3447771072387695 \n",
            "\n",
            " Loss: 0.05451442673802376 \n",
            " Epoch: 34 \n",
            " Time: 4.3082115650177 \n",
            "\n",
            " Loss: 0.05703624710440636 \n",
            " Epoch: 35 \n",
            " Time: 3.8795578479766846 \n",
            "\n",
            " Loss: 0.050958920270204544 \n",
            " Epoch: 36 \n",
            " Time: 4.345814943313599 \n",
            "\n",
            " Loss: 0.05606577917933464 \n",
            " Epoch: 37 \n",
            " Time: 4.282556533813477 \n",
            "\n",
            " Loss: 0.05652172118425369 \n",
            " Epoch: 38 \n",
            " Time: 3.840806245803833 \n",
            "\n",
            " Loss: 0.05358635261654854 \n",
            " Epoch: 39 \n",
            " Time: 4.335792779922485 \n",
            "\n",
            " Loss: 0.05688847601413727 \n",
            " Epoch: 40 \n",
            " Time: 4.266405344009399 \n",
            "\n",
            " Loss: 0.05484456941485405 \n",
            " Epoch: 41 \n",
            " Time: 3.7704594135284424 \n",
            "\n",
            " Loss: 0.08122767508029938 \n",
            " Epoch: 42 \n",
            " Time: 4.282357215881348 \n",
            "\n",
            " Loss: 0.05367210507392883 \n",
            " Epoch: 43 \n",
            " Time: 4.31139349937439 \n",
            "\n",
            " Loss: 0.05809972062706947 \n",
            " Epoch: 44 \n",
            " Time: 3.8263041973114014 \n",
            "\n",
            " Loss: 0.05937046557664871 \n",
            " Epoch: 45 \n",
            " Time: 4.207170009613037 \n",
            "\n",
            " Loss: 0.05837051570415497 \n",
            " Epoch: 46 \n",
            " Time: 4.2997846603393555 \n",
            "\n",
            " Loss: 0.06125036999583244 \n",
            " Epoch: 47 \n",
            " Time: 3.7709221839904785 \n",
            "\n",
            " Loss: 0.04988598823547363 \n",
            " Epoch: 48 \n",
            " Time: 4.158764123916626 \n",
            "\n",
            " Loss: 0.0505429245531559 \n",
            " Epoch: 49 \n",
            " Time: 4.3661041259765625 \n",
            "\n",
            " Loss: 0.04752613604068756 \n",
            " Epoch: 50 \n",
            " Time: 3.6897494792938232 \n",
            "\n",
            " Loss: 0.04809184372425079 \n",
            " Epoch: 51 \n",
            " Time: 3.864471435546875 \n",
            "\n",
            " Loss: 0.05853896588087082 \n",
            " Epoch: 52 \n",
            " Time: 4.710219860076904 \n",
            "\n",
            " Loss: 0.05588236078619957 \n",
            " Epoch: 53 \n",
            " Time: 3.7713661193847656 \n",
            "\n",
            " Loss: 0.04458606243133545 \n",
            " Epoch: 54 \n",
            " Time: 3.8079888820648193 \n",
            "\n",
            " Loss: 0.05576581507921219 \n",
            " Epoch: 55 \n",
            " Time: 4.790109634399414 \n",
            "\n",
            " Loss: 0.04999168589711189 \n",
            " Epoch: 56 \n",
            " Time: 3.8188605308532715 \n",
            "\n",
            " Loss: 0.05998624861240387 \n",
            " Epoch: 57 \n",
            " Time: 3.823514699935913 \n",
            "\n",
            " Loss: 0.0515049509704113 \n",
            " Epoch: 58 \n",
            " Time: 4.790449142456055 \n",
            "\n",
            " Loss: 0.051221951842308044 \n",
            " Epoch: 59 \n",
            " Time: 3.748666524887085 \n",
            "\n",
            " Loss: 0.05232115462422371 \n",
            " Epoch: 60 \n",
            " Time: 3.849761962890625 \n",
            "\n",
            " Loss: 0.04946895316243172 \n",
            " Epoch: 61 \n",
            " Time: 4.771920919418335 \n",
            "\n",
            " Loss: 0.0529966801404953 \n",
            " Epoch: 62 \n",
            " Time: 3.8133885860443115 \n",
            "\n",
            " Loss: 0.056800082325935364 \n",
            " Epoch: 63 \n",
            " Time: 3.906832695007324 \n",
            "\n",
            " Loss: 0.04465813934803009 \n",
            " Epoch: 64 \n",
            " Time: 4.782098770141602 \n",
            "\n",
            " Loss: 0.045270130038261414 \n",
            " Epoch: 65 \n",
            " Time: 3.769376754760742 \n",
            "\n",
            " Loss: 0.054189812391996384 \n",
            " Epoch: 66 \n",
            " Time: 3.787750720977783 \n",
            "\n",
            " Loss: 0.04769529774785042 \n",
            " Epoch: 67 \n",
            " Time: 4.739227294921875 \n",
            "\n",
            " Loss: 0.04238996282219887 \n",
            " Epoch: 68 \n",
            " Time: 3.805596113204956 \n",
            "\n",
            " Loss: 0.04814906790852547 \n",
            " Epoch: 69 \n",
            " Time: 3.881166458129883 \n",
            "\n",
            " Loss: 0.05420231446623802 \n",
            " Epoch: 70 \n",
            " Time: 4.863345146179199 \n",
            "\n",
            " Loss: 0.0592031329870224 \n",
            " Epoch: 71 \n",
            " Time: 3.802802562713623 \n",
            "\n",
            " Loss: 0.06278257817029953 \n",
            " Epoch: 72 \n",
            " Time: 3.828540802001953 \n",
            "\n",
            " Loss: 0.06040169298648834 \n",
            " Epoch: 73 \n",
            " Time: 4.791761875152588 \n",
            "\n",
            " Loss: 0.05188112333416939 \n",
            " Epoch: 74 \n",
            " Time: 3.7710330486297607 \n",
            "\n",
            " Loss: 0.04990224540233612 \n",
            " Epoch: 75 \n",
            " Time: 3.785517454147339 \n",
            "\n",
            " Loss: 0.057023320347070694 \n",
            " Epoch: 76 \n",
            " Time: 4.739245653152466 \n",
            "\n",
            " Loss: 0.05004794895648956 \n",
            " Epoch: 77 \n",
            " Time: 3.7841944694519043 \n",
            "\n",
            " Loss: 0.04475074261426926 \n",
            " Epoch: 78 \n",
            " Time: 3.8536875247955322 \n",
            "\n",
            " Loss: 0.05170156806707382 \n",
            " Epoch: 79 \n",
            " Time: 4.767796754837036 \n",
            "\n",
            " Loss: 0.04840974882245064 \n",
            " Epoch: 80 \n",
            " Time: 3.7918026447296143 \n",
            "\n",
            " Loss: 0.046912334859371185 \n",
            " Epoch: 81 \n",
            " Time: 3.847726583480835 \n",
            "\n",
            " Loss: 0.04501071944832802 \n",
            " Epoch: 82 \n",
            " Time: 4.841584920883179 \n",
            "\n",
            " Loss: 0.04641281068325043 \n",
            " Epoch: 83 \n",
            " Time: 3.8615365028381348 \n",
            "\n",
            " Loss: 0.04945041239261627 \n",
            " Epoch: 84 \n",
            " Time: 3.875030994415283 \n",
            "\n",
            " Loss: 0.053782328963279724 \n",
            " Epoch: 85 \n",
            " Time: 4.8645429611206055 \n",
            "\n",
            " Loss: 0.048454705625772476 \n",
            " Epoch: 86 \n",
            " Time: 3.7933578491210938 \n",
            "\n",
            " Loss: 0.05263875424861908 \n",
            " Epoch: 87 \n",
            " Time: 3.7839736938476562 \n",
            "\n",
            " Loss: 0.04639091342687607 \n",
            " Epoch: 88 \n",
            " Time: 4.765676021575928 \n",
            "\n",
            " Loss: 0.044775672256946564 \n",
            " Epoch: 89 \n",
            " Time: 3.800405502319336 \n",
            "\n",
            " Loss: 0.04739949479699135 \n",
            " Epoch: 90 \n",
            " Time: 3.8082833290100098 \n",
            "\n",
            " Loss: 0.04526563361287117 \n",
            " Epoch: 91 \n",
            " Time: 4.747692346572876 \n",
            "\n",
            " Loss: 0.05037842318415642 \n",
            " Epoch: 92 \n",
            " Time: 3.805635929107666 \n",
            "\n",
            " Loss: 0.052029624581336975 \n",
            " Epoch: 93 \n",
            " Time: 3.923069953918457 \n",
            "\n",
            " Loss: 0.055726416409015656 \n",
            " Epoch: 94 \n",
            " Time: 4.842767953872681 \n",
            "\n",
            " Loss: 0.06814292818307877 \n",
            " Epoch: 95 \n",
            " Time: 3.800743579864502 \n",
            "\n",
            " Loss: 0.04592014476656914 \n",
            " Epoch: 96 \n",
            " Time: 3.806522846221924 \n",
            "\n",
            " Loss: 0.051221173256635666 \n",
            " Epoch: 97 \n",
            " Time: 4.7906553745269775 \n",
            "\n",
            " Loss: 0.05430305004119873 \n",
            " Epoch: 98 \n",
            " Time: 3.841480016708374 \n",
            "\n",
            " Loss: 0.04675285145640373 \n",
            " Epoch: 99 \n",
            " Time: 3.8728790283203125 \n",
            "\n"
          ]
        }
      ],
      "source": [
        "for epoch in range(100):\n",
        "    model.train()\n",
        "    start_time = time.time()\n",
        "    for batch_x, batch_y in train_loader:\n",
        "        pred = model(batch_x)\n",
        "        loss = loss_fn(pred, batch_y)\n",
        "        optimizer.zero_grad()\n",
        "        loss.backward()\n",
        "        optimizer.step()\n",
        "\n",
        "    print(\" Loss:\", loss.item(), \"\\n\", \"Epoch:\", epoch, \"\\n\", \"Time:\",  time.time() - start_time, \"\\n\")\n"
      ]
    },
    {
      "cell_type": "code",
      "execution_count": null,
      "metadata": {
        "colab": {
          "base_uri": "https://localhost:8080/",
          "height": 467
        },
        "id": "rXOZBdpTZC0W",
        "outputId": "d9c0c0b1-d554-42c3-9336-b4b96c74fb69"
      },
      "outputs": [
        {
          "name": "stderr",
          "output_type": "stream",
          "text": [
            "WARNING:matplotlib.image:Clipping input data to the valid range for imshow with RGB data ([0..1] for floats or [0..255] for integers).\n"
          ]
        },
        {
          "data": {
            "image/png": "[encoded data removed]",
            "text/plain": [
              "<Figure size 640x480 with 1 Axes>"
            ]
          },
          "metadata": {},
          "output_type": "display_data"
        }
      ],
      "source": [
        "prediction = model(x_test_lr[:1])\n",
        "prediction = prediction.permute(0, 2, 3, 1)\n",
        "\n",
        "plt.imshow(prediction[0].detach().numpy())\n",
        "plt.show()"
      ]
    },
    {
      "cell_type": "code",
      "execution_count": null,
      "metadata": {
        "colab": {
          "base_uri": "https://localhost:8080/",
          "height": 430
        },
        "id": "en6Xc3aKEVrz",
        "outputId": "4c78f534-cfed-4759-88dd-3a7c8e5220bd"
      },
      "outputs": [
        {
          "data": {
            "image/png": "[encoded data removed]",
            "text/plain": [
              "<Figure size 640x480 with 1 Axes>"
            ]
          },
          "metadata": {},
          "output_type": "display_data"
        }
      ],
      "source": [
        "true_im = x_test_hr[:1]\n",
        "true_im = true_im.permute(0, 2, 3, 1)\n",
        "\n",
        "plt.imshow(true_im[0].detach().numpy())\n",
        "plt.show()"
      ]
    },
    {
      "cell_type": "code",
      "execution_count": null,
      "metadata": {
        "colab": {
          "base_uri": "https://localhost:8080/",
          "height": 430
        },
        "id": "OYO2SZ_7FBg3",
        "outputId": "b3f6598d-96d0-4024-ac6b-55f6134654e7"
      },
      "outputs": [
        {
          "data": {
            "image/png": "[encoded data removed]",
            "text/plain": [
              "<Figure size 640x480 with 1 Axes>"
            ]
          },
          "metadata": {},
          "output_type": "display_data"
        }
      ],
      "source": [
        "input_im = x_test_lr[:1]\n",
        "input_im = input_im.permute(0, 2, 3, 1)\n",
        "\n",
        "plt.imshow(input_im[0].detach().numpy())\n",
        "plt.show()\n"
      ]
    }
  ],
  "metadata": {
    "accelerator": "GPU",
    "colab": {
      "authorship_tag": "ABX9TyPLMJ3TmkL1vDfaNkCfxaLZ",
      "gpuType": "T4",
      "include_colab_link": true,
      "provenance": []
    },
    "kernelspec": {
      "display_name": "Python 3",
      "name": "python3"
    },
    "language_info": {
      "codemirror_mode": {
        "name": "ipython",
        "version": 3
      },
      "file_extension": ".py",
      "mimetype": "text/x-python",
      "name": "python",
      "nbconvert_exporter": "python",
      "pygments_lexer": "ipython3",
      "version": "3.11.4"
    }
  },
  "nbformat": 4,
  "nbformat_minor": 0
}

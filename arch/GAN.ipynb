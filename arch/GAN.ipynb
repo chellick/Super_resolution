{
  "cells": [
    {
      "cell_type": "markdown",
      "metadata": {
        "colab_type": "text",
        "id": "view-in-github"
      },
      "source": [
        "<a href=\"https://colab.research.google.com/github/chellick/Super_resolution/blob/main/GAN.ipynb\" target=\"_parent\"><img src=\"https://colab.research.google.com/assets/colab-badge.svg\" alt=\"Open In Colab\"/></a>"
      ]
    },
    {
      "cell_type": "code",
      "execution_count": null,
      "metadata": {
        "id": "Xj8NxQECiOk1"
      },
      "outputs": [],
      "source": [
        "import tensorflow as tf\n",
        "import matplotlib.pyplot as plt\n",
        "import numpy as np\n",
        "from google.colab import drive"
      ]
    },
    {
      "cell_type": "code",
      "execution_count": null,
      "metadata": {
        "colab": {
          "base_uri": "https://localhost:8080/"
        },
        "id": "ZA4QSW4prBkP",
        "outputId": "e1735ae7-61bf-47dc-89f3-f0e97f0031b7"
      },
      "outputs": [
        {
          "name": "stdout",
          "output_type": "stream",
          "text": [
            "Mounted at /content/drive\n"
          ]
        }
      ],
      "source": [
        "drive.mount('/content/drive')\n"
      ]
    },
    {
      "cell_type": "code",
      "execution_count": null,
      "metadata": {
        "id": "jB4AXnHDisbO"
      },
      "outputs": [],
      "source": [
        "(y_train, _), (y_test, _) = tf.keras.datasets.cifar10.load_data()\n",
        "y_train = y_train / 255.0"
      ]
    },
    {
      "cell_type": "code",
      "execution_count": null,
      "metadata": {
        "id": "qQIP7eOqAM3M"
      },
      "outputs": [],
      "source": [
        "# y_train = (y_train / 127.5) - 127.5"
      ]
    },
    {
      "cell_type": "code",
      "execution_count": null,
      "metadata": {
        "id": "CJWDPhkynvjb"
      },
      "outputs": [],
      "source": []
    },
    {
      "cell_type": "code",
      "execution_count": null,
      "metadata": {
        "id": "9GTslo2ki6uL"
      },
      "outputs": [],
      "source": [
        "train_dataset = tf.data.Dataset.from_tensor_slices(y_train).shuffle(60000).batch(64)\n",
        "test_dataset = tf.data.Dataset.from_tensor_slices(y_test).shuffle(60000).batch(64)"
      ]
    },
    {
      "cell_type": "code",
      "execution_count": null,
      "metadata": {
        "id": "2KoIy_NMkRHh"
      },
      "outputs": [],
      "source": [
        "generator = tf.keras.models.Sequential([\n",
        "    tf.keras.layers.Input((100, )),\n",
        "    tf.keras.layers.Dense(2048, use_bias=False),\n",
        "    tf.keras.layers.BatchNormalization(),\n",
        "    tf.keras.layers.LeakyReLU(),\n",
        "    tf.keras.layers.Reshape((2, 2, 512)),\n",
        "    tf.keras.layers.Conv2DTranspose(256, (5, 5), strides=(2, 2), padding='same', use_bias=False),\n",
        "    tf.keras.layers.BatchNormalization(),\n",
        "    tf.keras.layers.LeakyReLU(),\n",
        "    tf.keras.layers.Conv2DTranspose(128, (5, 5), strides=(2, 2), padding='same', use_bias=False),\n",
        "    tf.keras.layers.BatchNormalization(),\n",
        "    tf.keras.layers.LeakyReLU(),\n",
        "    tf.keras.layers.Conv2DTranspose(64, (5, 5), strides=(2, 2), padding='same', use_bias=False),\n",
        "    tf.keras.layers.BatchNormalization(),\n",
        "    tf.keras.layers.LeakyReLU(),\n",
        "    tf.keras.layers.Conv2DTranspose(3, (5, 5), strides=(2, 2), padding='same', use_bias=False, activation=\"tanh\")\n",
        "    ])"
      ]
    },
    {
      "cell_type": "code",
      "execution_count": null,
      "metadata": {
        "colab": {
          "base_uri": "https://localhost:8080/"
        },
        "id": "y-RqTQFuqoMt",
        "outputId": "093bd209-3606-4991-8b7a-e6dbd9417659"
      },
      "outputs": [
        {
          "name": "stdout",
          "output_type": "stream",
          "text": [
            "Model: \"sequential\"\n",
            "_________________________________________________________________\n",
            " Layer (type)                Output Shape              Param #   \n",
            "=================================================================\n",
            " dense (Dense)               (None, 2048)              204800    \n",
            "                                                                 \n",
            " batch_normalization (Batch  (None, 2048)              8192      \n",
            " Normalization)                                                  \n",
            "                                                                 \n",
            " leaky_re_lu (LeakyReLU)     (None, 2048)              0         \n",
            "                                                                 \n",
            " reshape (Reshape)           (None, 2, 2, 512)         0         \n",
            "                                                                 \n",
            " conv2d_transpose (Conv2DTr  (None, 4, 4, 256)         3276800   \n",
            " anspose)                                                        \n",
            "                                                                 \n",
            " batch_normalization_1 (Bat  (None, 4, 4, 256)         1024      \n",
            " chNormalization)                                                \n",
            "                                                                 \n",
            " leaky_re_lu_1 (LeakyReLU)   (None, 4, 4, 256)         0         \n",
            "                                                                 \n",
            " conv2d_transpose_1 (Conv2D  (None, 8, 8, 128)         819200    \n",
            " Transpose)                                                      \n",
            "                                                                 \n",
            " batch_normalization_2 (Bat  (None, 8, 8, 128)         512       \n",
            " chNormalization)                                                \n",
            "                                                                 \n",
            " leaky_re_lu_2 (LeakyReLU)   (None, 8, 8, 128)         0         \n",
            "                                                                 \n",
            " conv2d_transpose_2 (Conv2D  (None, 16, 16, 64)        204800    \n",
            " Transpose)                                                      \n",
            "                                                                 \n",
            " batch_normalization_3 (Bat  (None, 16, 16, 64)        256       \n",
            " chNormalization)                                                \n",
            "                                                                 \n",
            " leaky_re_lu_3 (LeakyReLU)   (None, 16, 16, 64)        0         \n",
            "                                                                 \n",
            " conv2d_transpose_3 (Conv2D  (None, 32, 32, 3)         4800      \n",
            " Transpose)                                                      \n",
            "                                                                 \n",
            "=================================================================\n",
            "Total params: 4520384 (17.24 MB)\n",
            "Trainable params: 4515392 (17.22 MB)\n",
            "Non-trainable params: 4992 (19.50 KB)\n",
            "_________________________________________________________________\n"
          ]
        }
      ],
      "source": [
        "generator.build\n",
        "generator.summary()"
      ]
    },
    {
      "cell_type": "code",
      "execution_count": null,
      "metadata": {
        "id": "jtpJw8MAtqjp"
      },
      "outputs": [],
      "source": [
        "discriminator = tf.keras.models.Sequential([\n",
        "    tf.keras.layers.Input((32, 32, 3)),\n",
        "    tf.keras.layers.Conv2D(64, (5, 5), strides=(2, 2), padding='same', use_bias=False),\n",
        "    tf.keras.layers.LeakyReLU(),\n",
        "    tf.keras.layers.Dropout(0.3),\n",
        "    tf.keras.layers.Conv2D(128, (5, 5), strides=(2, 2), padding='same', use_bias=False),\n",
        "    tf.keras.layers.LeakyReLU(),\n",
        "    tf.keras.layers.Dropout(0.3),\n",
        "    tf.keras.layers.Conv2D(256, (5, 5), strides=(2, 2), padding='same', use_bias=False),\n",
        "    tf.keras.layers.LeakyReLU(),\n",
        "    tf.keras.layers.Dropout(0.3),\n",
        "    tf.keras.layers.Flatten(),\n",
        "    tf.keras.layers.Dense(1)\n",
        "\n",
        "])"
      ]
    },
    {
      "cell_type": "code",
      "execution_count": null,
      "metadata": {
        "colab": {
          "base_uri": "https://localhost:8080/"
        },
        "id": "whH9a6z-uMQL",
        "outputId": "0cdb67db-5649-45f1-f618-72412e71c65a"
      },
      "outputs": [
        {
          "name": "stdout",
          "output_type": "stream",
          "text": [
            "Model: \"sequential_1\"\n",
            "_________________________________________________________________\n",
            " Layer (type)                Output Shape              Param #   \n",
            "=================================================================\n",
            " conv2d (Conv2D)             (None, 16, 16, 64)        4800      \n",
            "                                                                 \n",
            " leaky_re_lu_4 (LeakyReLU)   (None, 16, 16, 64)        0         \n",
            "                                                                 \n",
            " dropout (Dropout)           (None, 16, 16, 64)        0         \n",
            "                                                                 \n",
            " conv2d_1 (Conv2D)           (None, 8, 8, 128)         204800    \n",
            "                                                                 \n",
            " leaky_re_lu_5 (LeakyReLU)   (None, 8, 8, 128)         0         \n",
            "                                                                 \n",
            " dropout_1 (Dropout)         (None, 8, 8, 128)         0         \n",
            "                                                                 \n",
            " conv2d_2 (Conv2D)           (None, 4, 4, 256)         819200    \n",
            "                                                                 \n",
            " leaky_re_lu_6 (LeakyReLU)   (None, 4, 4, 256)         0         \n",
            "                                                                 \n",
            " dropout_2 (Dropout)         (None, 4, 4, 256)         0         \n",
            "                                                                 \n",
            " flatten (Flatten)           (None, 4096)              0         \n",
            "                                                                 \n",
            " dense_1 (Dense)             (None, 1)                 4097      \n",
            "                                                                 \n",
            "=================================================================\n",
            "Total params: 1032897 (3.94 MB)\n",
            "Trainable params: 1032897 (3.94 MB)\n",
            "Non-trainable params: 0 (0.00 Byte)\n",
            "_________________________________________________________________\n"
          ]
        }
      ],
      "source": [
        "discriminator.build\n",
        "discriminator.summary()"
      ]
    },
    {
      "cell_type": "code",
      "execution_count": null,
      "metadata": {
        "id": "SWPc4GjJwfZ7"
      },
      "outputs": [],
      "source": [
        "cross_entropy = tf.keras.losses.BinaryCrossentropy(from_logits=True)"
      ]
    },
    {
      "cell_type": "code",
      "execution_count": null,
      "metadata": {
        "id": "2-wZfy4rwQjF"
      },
      "outputs": [],
      "source": [
        "def discriminator_loss(real_output, fake_output):\n",
        "    real_loss = cross_entropy(tf.ones_like(real_output), real_output)\n",
        "    fake_loss = cross_entropy(tf.zeros_like(fake_output), fake_output)\n",
        "    total_loss = real_loss + fake_loss\n",
        "    return total_loss"
      ]
    },
    {
      "cell_type": "code",
      "execution_count": null,
      "metadata": {
        "id": "3sWxI_Ihwc17"
      },
      "outputs": [],
      "source": [
        "def generator_loss(fake_output):\n",
        "    return cross_entropy(tf.ones_like(fake_output), fake_output)"
      ]
    },
    {
      "cell_type": "code",
      "execution_count": null,
      "metadata": {
        "id": "szqNzngnwi2L"
      },
      "outputs": [],
      "source": [
        "generator_optimizer = tf.keras.optimizers.Adam(1e-4)\n",
        "discriminator_optimizer = tf.keras.optimizers.Adam(1e-4)"
      ]
    },
    {
      "cell_type": "code",
      "execution_count": null,
      "metadata": {
        "id": "JVtOPZudw71X"
      },
      "outputs": [],
      "source": [
        "import time"
      ]
    },
    {
      "cell_type": "code",
      "execution_count": null,
      "metadata": {
        "id": "teCmybWNwuiT"
      },
      "outputs": [],
      "source": [
        "\n",
        "\n",
        "@tf.function\n",
        "def train_step(images):\n",
        "    noise = tf.random.normal([64, 100])\n",
        "\n",
        "    with tf.GradientTape() as gen_tape, tf.GradientTape() as disc_tape:\n",
        "      generated_images = generator(noise, training=True)\n",
        "\n",
        "      real_output = discriminator(images, training=True)\n",
        "      fake_output = discriminator(generated_images, training=True)\n",
        "\n",
        "      gen_loss = generator_loss(fake_output)\n",
        "      disc_loss = discriminator_loss(real_output, fake_output)\n",
        "\n",
        "    gradients_of_generator = gen_tape.gradient(gen_loss, generator.trainable_variables)\n",
        "    gradients_of_discriminator = disc_tape.gradient(disc_loss, discriminator.trainable_variables)\n",
        "\n",
        "\n",
        "    generator_optimizer.apply_gradients(zip(gradients_of_generator, generator.trainable_variables))\n",
        "    discriminator_optimizer.apply_gradients(zip(gradients_of_discriminator, discriminator.trainable_variables))\n",
        "\n",
        "    return gen_loss, disc_loss"
      ]
    },
    {
      "cell_type": "code",
      "execution_count": null,
      "metadata": {
        "id": "X4fU9l-Dw5N-"
      },
      "outputs": [],
      "source": [
        "def train(dataset, epochs):\n",
        "  for epoch in range(epochs):\n",
        "    start = time.time()\n",
        "    gen_loss_epoch = 0\n",
        "    for image_batch in dataset:\n",
        "        gen_loss, disc_loss = train_step(image_batch)\n",
        "        gen_loss_epoch += tf.keras.backend.mean(gen_loss)\n",
        "\n",
        "\n",
        "\n",
        "    print('Time for epoch {} is {} sec'.format(epoch + 1, time.time()-start), \"Loss: \", gen_loss_epoch)\n",
        "\n"
      ]
    },
    {
      "cell_type": "code",
      "execution_count": null,
      "metadata": {
        "colab": {
          "base_uri": "https://localhost:8080/"
        },
        "id": "wT03woEzxLXZ",
        "outputId": "a9314a3c-f524-4542-e722-fd04aa8adad3"
      },
      "outputs": [
        {
          "name": "stdout",
          "output_type": "stream",
          "text": [
            "Time for epoch 1 is 21.696268558502197 sec Loss:  tf.Tensor(1157.9823, shape=(), dtype=float32)\n",
            "Time for epoch 2 is 21.078494548797607 sec Loss:  tf.Tensor(1322.0232, shape=(), dtype=float32)\n",
            "Time for epoch 3 is 21.406579732894897 sec Loss:  tf.Tensor(1737.3562, shape=(), dtype=float32)\n",
            "Time for epoch 4 is 21.866817474365234 sec Loss:  tf.Tensor(1679.9215, shape=(), dtype=float32)\n",
            "Time for epoch 5 is 22.196250677108765 sec Loss:  tf.Tensor(1903.7568, shape=(), dtype=float32)\n",
            "Time for epoch 6 is 22.473020315170288 sec Loss:  tf.Tensor(1963.2051, shape=(), dtype=float32)\n",
            "Time for epoch 7 is 22.25949764251709 sec Loss:  tf.Tensor(1725.7482, shape=(), dtype=float32)\n",
            "Time for epoch 8 is 22.110520839691162 sec Loss:  tf.Tensor(1236.7277, shape=(), dtype=float32)\n",
            "Time for epoch 9 is 22.16724967956543 sec Loss:  tf.Tensor(1155.669, shape=(), dtype=float32)\n",
            "Time for epoch 10 is 22.30699920654297 sec Loss:  tf.Tensor(1253.908, shape=(), dtype=float32)\n",
            "Time for epoch 11 is 22.231589317321777 sec Loss:  tf.Tensor(1105.9421, shape=(), dtype=float32)\n",
            "Time for epoch 12 is 22.168334484100342 sec Loss:  tf.Tensor(937.6734, shape=(), dtype=float32)\n",
            "Time for epoch 13 is 22.205795288085938 sec Loss:  tf.Tensor(941.92126, shape=(), dtype=float32)\n",
            "Time for epoch 14 is 22.203330278396606 sec Loss:  tf.Tensor(1036.0316, shape=(), dtype=float32)\n",
            "Time for epoch 15 is 22.197470903396606 sec Loss:  tf.Tensor(1073.5201, shape=(), dtype=float32)\n",
            "Time for epoch 16 is 22.221736907958984 sec Loss:  tf.Tensor(1056.8752, shape=(), dtype=float32)\n",
            "Time for epoch 17 is 22.250205039978027 sec Loss:  tf.Tensor(1029.4146, shape=(), dtype=float32)\n",
            "Time for epoch 18 is 22.22697114944458 sec Loss:  tf.Tensor(1015.87286, shape=(), dtype=float32)\n",
            "Time for epoch 19 is 22.256356477737427 sec Loss:  tf.Tensor(1056.9038, shape=(), dtype=float32)\n",
            "Time for epoch 20 is 22.259221076965332 sec Loss:  tf.Tensor(1158.164, shape=(), dtype=float32)\n",
            "Time for epoch 21 is 22.254870653152466 sec Loss:  tf.Tensor(1052.8258, shape=(), dtype=float32)\n",
            "Time for epoch 22 is 22.24422025680542 sec Loss:  tf.Tensor(1074.522, shape=(), dtype=float32)\n",
            "Time for epoch 23 is 22.23173236846924 sec Loss:  tf.Tensor(1056.5759, shape=(), dtype=float32)\n",
            "Time for epoch 24 is 22.21352219581604 sec Loss:  tf.Tensor(1122.7169, shape=(), dtype=float32)\n",
            "Time for epoch 25 is 22.229937314987183 sec Loss:  tf.Tensor(1070.2006, shape=(), dtype=float32)\n",
            "Time for epoch 26 is 22.237348556518555 sec Loss:  tf.Tensor(1048.9745, shape=(), dtype=float32)\n",
            "Time for epoch 27 is 22.197277069091797 sec Loss:  tf.Tensor(1082.1813, shape=(), dtype=float32)\n",
            "Time for epoch 28 is 22.20648741722107 sec Loss:  tf.Tensor(1126.6632, shape=(), dtype=float32)\n",
            "Time for epoch 29 is 22.216087579727173 sec Loss:  tf.Tensor(1094.4435, shape=(), dtype=float32)\n",
            "Time for epoch 30 is 22.203877449035645 sec Loss:  tf.Tensor(1065.7856, shape=(), dtype=float32)\n"
          ]
        }
      ],
      "source": [
        "train(train_dataset, 30)"
      ]
    },
    {
      "cell_type": "code",
      "execution_count": null,
      "metadata": {
        "colab": {
          "base_uri": "https://localhost:8080/",
          "height": 447
        },
        "id": "MafPJKrp6egS",
        "outputId": "773a1d18-8582-4f6c-c2f9-e6e293dc9f8b"
      },
      "outputs": [
        {
          "data": {
            "text/plain": [
              "<matplotlib.image.AxesImage at 0x7db7f8dd5c60>"
            ]
          },
          "execution_count": 27,
          "metadata": {},
          "output_type": "execute_result"
        },
        {
          "data": {
            "image/png": "[encoded data removed]",
            "text/plain": [
              "<Figure size 640x480 with 1 Axes>"
            ]
          },
          "metadata": {},
          "output_type": "display_data"
        }
      ],
      "source": [
        "im = y_train[0]\n",
        "\n",
        "im\n",
        "plt.imshow(im)\n"
      ]
    },
    {
      "cell_type": "code",
      "execution_count": null,
      "metadata": {
        "colab": {
          "base_uri": "https://localhost:8080/",
          "height": 485
        },
        "id": "-g1Ffoin6uIL",
        "outputId": "84685069-3969-4d8b-87f7-de0aaf249097"
      },
      "outputs": [
        {
          "name": "stderr",
          "output_type": "stream",
          "text": [
            "WARNING:matplotlib.image:Clipping input data to the valid range for imshow with RGB data ([0..1] for floats or [0..255] for integers).\n"
          ]
        },
        {
          "data": {
            "text/plain": [
              "<matplotlib.image.AxesImage at 0x7db7950a1450>"
            ]
          },
          "execution_count": 44,
          "metadata": {},
          "output_type": "execute_result"
        },
        {
          "data": {
            "image/png": "[encoded data removed]",
            "text/plain": [
              "<Figure size 640x480 with 1 Axes>"
            ]
          },
          "metadata": {},
          "output_type": "display_data"
        }
      ],
      "source": [
        "noise = tf.random.normal([1, 100])\n",
        "pred = generator(noise)[0]\n",
        "\n",
        "\n",
        "plt.imshow(pred)"
      ]
    }
  ],
  "metadata": {
    "accelerator": "GPU",
    "colab": {
      "authorship_tag": "ABX9TyNZrCioIPL1vFEsJNATDJZ4",
      "gpuType": "T4",
      "include_colab_link": true,
      "provenance": []
    },
    "kernelspec": {
      "display_name": "Python 3",
      "name": "python3"
    },
    "language_info": {
      "name": "python",
      "version": "3.11.4"
    }
  },
  "nbformat": 4,
  "nbformat_minor": 0
}

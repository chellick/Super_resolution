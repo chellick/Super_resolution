{
 "cells": [
  {
   "cell_type": "code",
   "execution_count": 1,
   "metadata": {},
   "outputs": [],
   "source": [
    "import torch\n",
    "import torch.nn as nn\n",
    "import matplotlib.pyplot as plt\n",
    "import time\n",
    "import os\n",
    "import sys\n",
    "from torch.utils.data import DataLoader, TensorDataset\n",
    "from sklearn.model_selection import train_test_split\n",
    "import cv2\n",
    "import numpy as np\n",
    "import functools\n",
    "import torch\n",
    "import torch.nn as nn\n",
    "import torch.nn.functional as F"
   ]
  },
  {
   "cell_type": "code",
   "execution_count": 2,
   "metadata": {},
   "outputs": [
    {
     "data": {
      "text/plain": [
       "device(type='cuda', index=0)"
      ]
     },
     "execution_count": 2,
     "metadata": {},
     "output_type": "execute_result"
    }
   ],
   "source": [
    "device = torch.device(\"cuda:0\" if torch.cuda.is_available() else \"cpu\")\n",
    "device"
   ]
  },
  {
   "cell_type": "code",
   "execution_count": 3,
   "metadata": {},
   "outputs": [],
   "source": [
    "def make_layer(block, n_layers):\n",
    "    layers = []\n",
    "    for _ in range(n_layers):\n",
    "        layers.append(block())\n",
    "    return nn.Sequential(*layers)\n",
    "\n",
    "\n",
    "class ResidualDenseBlock_5C(nn.Module):\n",
    "    def __init__(self, filters=64, gc=32, bias=True):\n",
    "        super(ResidualDenseBlock_5C, self).__init__()\n",
    "        # gc: growth channel, i.e. intermediate channels\n",
    "        self.conv1 = nn.Conv2d(filters, gc, 3, 1, 1, bias=bias)\n",
    "        self.conv2 = nn.Conv2d(filters + gc, gc, 3, 1, 1, bias=bias)\n",
    "        self.conv3 = nn.Conv2d(filters + 2 * gc, gc, 3, 1, 1, bias=bias)\n",
    "        self.conv4 = nn.Conv2d(filters + 3 * gc, gc, 3, 1, 1, bias=bias)\n",
    "        self.conv5 = nn.Conv2d(filters + 4 * gc, filters, 3, 1, 1, bias=bias)\n",
    "        self.lrelu = nn.LeakyReLU(negative_slope=0.2, inplace=True)\n",
    "    \n",
    "    def forward(self, x):\n",
    "        x1 = self.lrelu(self.conv1(x))\n",
    "        x2 = self.lrelu(self.conv2(torch.cat((x, x1), 1)))\n",
    "        x3 = self.lrelu(self.conv3(torch.cat((x, x1, x2), 1)))\n",
    "        x4 = self.lrelu(self.conv4(torch.cat((x, x1, x2, x3), 1)))\n",
    "        x5 = self.conv5(torch.cat((x, x1, x2, x3, x4), 1))\n",
    "        return x5\n",
    "\n",
    "\n",
    "class RRDB(nn.Module):\n",
    "    def __init__(self, filters, gc=32):\n",
    "        super(RRDB, self).__init__()\n",
    "        self.RDB1 = ResidualDenseBlock_5C(filters, gc)\n",
    "        self.RDB2 = ResidualDenseBlock_5C(filters, gc)\n",
    "        self.RDB3 = ResidualDenseBlock_5C(filters, gc)\n",
    "\n",
    "    def forward(self, x):\n",
    "        out = self.RDB1(x)\n",
    "        out = self.RDB2(out)\n",
    "        out = self.RDB3(out)\n",
    "        return out * 0.2 + x\n",
    "    \n",
    "    \n",
    "class RRDBNet(nn.Module):\n",
    "    def __init__(self, in_nc, out_nc, filters, nb, gc=1):\n",
    "        super(RRDBNet, self).__init__()\n",
    "        RRDB_block_f = functools.partial(RRDB, filters=filters, gc=gc)\n",
    "\n",
    "        self.conv_first = nn.Conv2d(in_nc, filters, 3, 1, 1, bias=True)\n",
    "        self.RRDB_trunk = make_layer(RRDB_block_f, nb)\n",
    "        self.trunk_conv = nn.Conv2d(filters, filters, 3, 1, 1, bias=True)\n",
    "        self.upconv1 = nn.Conv2d(filters, filters, 3, 1, 1, bias=True)\n",
    "        self.upconv2 = nn.Conv2d(filters, filters, 3, 1, 1, bias=True)\n",
    "        self.HRconv = nn.Conv2d(filters, filters, 3, 1, 1, bias=True)\n",
    "        self.conv_last = nn.Conv2d(filters, out_nc, 3, 1, 1, bias=True)\n",
    "\n",
    "        self.lrelu = nn.LeakyReLU(negative_slope=0.2, inplace=True)\n",
    "\n",
    "    def forward(self, x):\n",
    "        fea = self.conv_first(x)\n",
    "        trunk = self.trunk_conv(self.RRDB_trunk(fea))\n",
    "        fea = fea + trunk\n",
    "\n",
    "        fea = self.lrelu(self.upconv1(F.interpolate(fea, scale_factor=1, mode='nearest')))\n",
    "        fea = self.lrelu(self.upconv2(F.interpolate(fea, scale_factor=1, mode='nearest')))\n",
    "        out = self.conv_last(self.lrelu(self.HRconv(fea)))\n",
    "\n",
    "        return out\n"
   ]
  },
  {
   "cell_type": "code",
   "execution_count": 4,
   "metadata": {},
   "outputs": [
    {
     "data": {
      "text/plain": [
       "['high res', 'image_data.csv', 'low res']"
      ]
     },
     "execution_count": 4,
     "metadata": {},
     "output_type": "execute_result"
    }
   ],
   "source": [
    "path = 'datasets/unsplash_benchmark/Image Super Resolution - Unsplash/'\n",
    "hr_path = path + 'high res/'\n",
    "lr_path = path + 'low res/'\n",
    "\n",
    "os.listdir(path)"
   ]
  },
  {
   "cell_type": "code",
   "execution_count": 5,
   "metadata": {},
   "outputs": [],
   "source": [
    "def load_data(path, full_data=True, type='6'):\n",
    "    if full_data:\n",
    "        data_path = path\n",
    "        hr_path = os.path.join(path, 'high res/')\n",
    "        lr_path = os.path.join(path, 'low res/')\n",
    "        high_resolution = []\n",
    "        low_resolution = []\n",
    "\n",
    "        for i in range(1, 100):\n",
    "            hr_img = cv2.imread(os.path.join(hr_path, f'{i}.jpg'))\n",
    "            lr_img = cv2.imread(os.path.join(lr_path, f'{i}_{type}.jpg'))\n",
    "            if hr_img.shape[0] == 800 and lr_img.shape[0] == 800 and hr_img.shape[1] == 1200 and lr_img.shape[1] == 1200:\n",
    "              high_resolution.append(hr_img)\n",
    "              low_resolution.append(lr_img)\n",
    "            else:\n",
    "              continue\n",
    "\n",
    "\n",
    "        high_resolution = np.array(high_resolution)\n",
    "        low_resolution = np.array(low_resolution)\n",
    "        # print(high_resolution.shape)\n",
    "        high_resolution = np.transpose(high_resolution, (0, 3, 1, 2))\n",
    "        low_resolution = np.transpose(low_resolution, (0, 3, 1, 2))\n",
    "\n",
    "        high_resolution_tensor = torch.from_numpy(high_resolution).float()\n",
    "        low_resolution_tensor = torch.from_numpy(low_resolution).float()\n",
    "\n",
    "        return high_resolution_tensor, low_resolution_tensor"
   ]
  },
  {
   "cell_type": "code",
   "execution_count": 6,
   "metadata": {},
   "outputs": [
    {
     "name": "stdout",
     "output_type": "stream",
     "text": [
      "2.6349501609802246 Total time\n"
     ]
    }
   ],
   "source": [
    "start = time.time()\n",
    "hr, lr = load_data(path)\n",
    "print(time.time()-start, \"Total time\")"
   ]
  },
  {
   "cell_type": "code",
   "execution_count": 7,
   "metadata": {},
   "outputs": [
    {
     "name": "stdout",
     "output_type": "stream",
     "text": [
      "Training set shapes - High-res: torch.Size([50, 3, 800, 1200])  Low-res: torch.Size([50, 3, 800, 1200])\n",
      "Validation set shapes - High-res: torch.Size([22, 3, 800, 1200])  Low-res: torch.Size([22, 3, 800, 1200])\n"
     ]
    }
   ],
   "source": [
    "hr_train, hr_valid, lr_train, lr_valid = train_test_split(hr, lr, test_size=0.3, random_state=21)\n",
    "\n",
    "print(\"Training set shapes - High-res:\", hr_train.shape, \" Low-res:\", lr_train.shape)\n",
    "print(\"Validation set shapes - High-res:\", hr_valid.shape, \" Low-res:\", lr_valid.shape)"
   ]
  },
  {
   "cell_type": "code",
   "execution_count": 8,
   "metadata": {},
   "outputs": [],
   "source": [
    "model = RRDBNet(3, 3, 64, 1, 2)\n",
    "criterion = nn.MSELoss() \n",
    "optimizer = torch.optim.Adam(model.parameters(), lr=0.001)"
   ]
  },
  {
   "cell_type": "code",
   "execution_count": 9,
   "metadata": {},
   "outputs": [],
   "source": [
    "hr_train = hr_train.to(device)\n",
    "hr_valid = hr_valid.to(device)\n",
    "lr_valid = lr_valid.to(device)\n",
    "model = model.to(device)"
   ]
  },
  {
   "cell_type": "code",
   "execution_count": 10,
   "metadata": {},
   "outputs": [],
   "source": [
    "\n",
    "num_epochs = 10\n",
    "batch_size = 3\n",
    "\n",
    "for epoch in range(num_epochs):\n",
    "    model.train()\n",
    "\n",
    "    # Iterate over batches in the training set\n",
    "    for i in range(0, len(hr_train), batch_size):\n",
    "        hr_batch = hr_train[i:i+batch_size]\n",
    "        lr_batch = lr_train[i:i+batch_size]\n",
    "        hr_batch = hr_batch.to(device)\n",
    "        lr_batch = lr_batch.to(device)\n",
    "\n",
    "        # Zero the gradients\n",
    "        optimizer.zero_grad()\n",
    "\n",
    "        # Forward pass\n",
    "        outputs = model(lr_batch)\n",
    "\n",
    "        # Compute the loss\n",
    "        loss = criterion(outputs, hr_batch)\n",
    "\n",
    "        # Backward pass and optimization\n",
    "        loss.backward()\n",
    "        optimizer.step()\n",
    "\n",
    "    # Validation\n",
    "    model.eval()\n",
    "    with torch.no_grad():\n",
    "        val_outputs = model(lr_valid)\n",
    "        val_loss = criterion(val_outputs, hr_valid)\n",
    "\n",
    "    # Print training and validation loss\n",
    "    print(f'Epoch [{epoch+1}/{num_epochs}], Loss: {loss.item()}, Validation Loss: {val_loss.item()}')\n"
   ]
  }
 ],
 "metadata": {
  "kernelspec": {
   "display_name": "venv",
   "language": "python",
   "name": "python3"
  },
  "language_info": {
   "codemirror_mode": {
    "name": "ipython",
    "version": 3
   },
   "file_extension": ".py",
   "mimetype": "text/x-python",
   "name": "python",
   "nbconvert_exporter": "python",
   "pygments_lexer": "ipython3",
   "version": "3.11.4"
  }
 },
 "nbformat": 4,
 "nbformat_minor": 2
}

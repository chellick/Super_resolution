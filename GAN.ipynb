{
<<<<<<< HEAD
=======
  "nbformat": 4,
  "nbformat_minor": 0,
  "metadata": {
    "colab": {
      "provenance": [],
      "gpuType": "T4",
      "authorship_tag": "ABX9TyNZrCioIPL1vFEsJNATDJZ4",
      "include_colab_link": true
    },
    "kernelspec": {
      "name": "python3",
      "display_name": "Python 3"
    },
    "language_info": {
      "name": "python"
    },
    "accelerator": "GPU"
  },
>>>>>>> 0ea8152df1ae8d81da05d32f1eee68da9a5f8095
  "cells": [
    {
      "cell_type": "markdown",
      "metadata": {
        "colab_type": "text",
        "id": "view-in-github"
      },
      "source": [
        "<a href=\"https://colab.research.google.com/github/chellick/Super_resolution/blob/main/GAN.ipynb\" target=\"_parent\"><img src=\"https://colab.research.google.com/assets/colab-badge.svg\" alt=\"Open In Colab\"/></a>"
      ]
    },
    {
      "cell_type": "code",
      "execution_count": 1,
      "metadata": {
<<<<<<< HEAD
        "id": "OFsn3uIwJL8G"
=======
        "id": "Xj8NxQECiOk1"
>>>>>>> 0ea8152df1ae8d81da05d32f1eee68da9a5f8095
      },
      "outputs": [],
      "source": [
        "import tensorflow as tf\n",
        "import matplotlib.pyplot as plt\n",
<<<<<<< HEAD
        "import os\n",
        "import time"
=======
        "import numpy as np\n",
        "from google.colab import drive"
      ]
    },
    {
      "cell_type": "code",
      "source": [
        "drive.mount('/content/drive')\n"
      ],
      "metadata": {
        "colab": {
          "base_uri": "https://localhost:8080/"
        },
        "id": "ZA4QSW4prBkP",
        "outputId": "e1735ae7-61bf-47dc-89f3-f0e97f0031b7"
      },
      "execution_count": 2,
      "outputs": [
        {
          "output_type": "stream",
          "name": "stdout",
          "text": [
            "Mounted at /content/drive\n"
          ]
        }
>>>>>>> 0ea8152df1ae8d81da05d32f1eee68da9a5f8095
      ]
    },
    {
      "cell_type": "code",
      "execution_count": 2,
      "metadata": {
        "colab": {
          "base_uri": "https://localhost:8080/"
        },
        "id": "hOuMc3pdJRVd",
        "outputId": "2a3655ad-e82e-40d7-c6ff-c363c8afee23"
      },
      "outputs": [],
      "source": [
<<<<<<< HEAD
        "(train_images, train_labels), (_, _) = tf.keras.datasets.cifar10.load_data()"
      ]
    },
    {
      "cell_type": "code",
      "execution_count": 3,
=======
        "(y_train, _), (y_test, _) = tf.keras.datasets.cifar10.load_data()\n",
        "y_train = y_train / 255.0"
      ],
>>>>>>> 0ea8152df1ae8d81da05d32f1eee68da9a5f8095
      "metadata": {
        "id": "jB4AXnHDisbO"
      },
<<<<<<< HEAD
      "outputs": [
        {
          "data": {
            "text/plain": [
              "(50000, 32, 32, 3)"
            ]
          },
          "execution_count": 3,
          "metadata": {},
          "output_type": "execute_result"
        }
      ],
      "source": [
        "train_images.shape"
      ]
    },
    {
      "cell_type": "code",
      "execution_count": 4,
=======
      "execution_count": 7,
      "outputs": []
    },
    {
      "cell_type": "code",
      "source": [
        "# y_train = (y_train / 127.5) - 127.5"
      ],
>>>>>>> 0ea8152df1ae8d81da05d32f1eee68da9a5f8095
      "metadata": {
        "id": "qQIP7eOqAM3M"
      },
      "outputs": [],
      "source": [
        "train_images = train_images.reshape(train_images.shape[0], 32, 32, 3).astype('float32')\n",
        "train_images = (train_images - 127.5) / 127.5  # Normalize the images to [-1, 1]"
      ]
    },
    {
      "cell_type": "code",
<<<<<<< HEAD
      "execution_count": 5,
=======
      "source": [],
      "metadata": {
        "id": "CJWDPhkynvjb"
      },
      "execution_count": 8,
      "outputs": []
    },
    {
      "cell_type": "code",
      "source": [
        "train_dataset = tf.data.Dataset.from_tensor_slices(y_train).shuffle(60000).batch(64)\n",
        "test_dataset = tf.data.Dataset.from_tensor_slices(y_test).shuffle(60000).batch(64)"
      ],
>>>>>>> 0ea8152df1ae8d81da05d32f1eee68da9a5f8095
      "metadata": {
        "id": "9GTslo2ki6uL"
      },
<<<<<<< HEAD
      "outputs": [],
      "source": [
        "train_dataset = tf.data.Dataset.from_tensor_slices(train_images).shuffle(60000).batch(100)"
      ]
=======
      "execution_count": 9,
      "outputs": []
>>>>>>> 0ea8152df1ae8d81da05d32f1eee68da9a5f8095
    },
    {
      "cell_type": "code",
      "execution_count": 7,
      "metadata": {
        "id": "rZuMxTmibxSy"
      },
      "outputs": [],
      "source": [
        "generator = tf.keras.models.Sequential([\n",
        "    tf.keras.layers.Input((100, )),\n",
        "    tf.keras.layers.Dense(2048, use_bias=False),\n",
        "    tf.keras.layers.BatchNormalization(),\n",
        "    tf.keras.layers.LeakyReLU(),\n",
        "    tf.keras.layers.Reshape((2, 2, 512)),\n",
        "    tf.keras.layers.Conv2DTranspose(256, (5, 5), strides=(2, 2), padding='same', use_bias=False),\n",
        "    tf.keras.layers.BatchNormalization(),\n",
        "    tf.keras.layers.LeakyReLU(),\n",
        "    tf.keras.layers.Conv2DTranspose(128, (5, 5), strides=(2, 2), padding='same', use_bias=False),\n",
        "    tf.keras.layers.BatchNormalization(),\n",
<<<<<<< HEAD
        "    tf.keras.layers.Conv2DTranspose(3, (5, 5,), strides=(2), padding='same', activation='tanh'),\n",
        "\n",
        "])"
      ]
    },
    {
      "cell_type": "code",
      "execution_count": 8,
=======
        "    tf.keras.layers.LeakyReLU(),\n",
        "    tf.keras.layers.Conv2DTranspose(64, (5, 5), strides=(2, 2), padding='same', use_bias=False),\n",
        "    tf.keras.layers.BatchNormalization(),\n",
        "    tf.keras.layers.LeakyReLU(),\n",
        "    tf.keras.layers.Conv2DTranspose(3, (5, 5), strides=(2, 2), padding='same', use_bias=False, activation=\"tanh\")\n",
        "    ])"
      ],
      "metadata": {
        "id": "2KoIy_NMkRHh"
      },
      "execution_count": 10,
      "outputs": []
    },
    {
      "cell_type": "code",
      "source": [
        "generator.build\n",
        "generator.summary()"
      ],
>>>>>>> 0ea8152df1ae8d81da05d32f1eee68da9a5f8095
      "metadata": {
        "colab": {
          "base_uri": "https://localhost:8080/"
        },
<<<<<<< HEAD
        "id": "b5qknOfmL7zP",
        "outputId": "72ea29a4-14cc-4b5f-bb8c-ee89030b51dd"
      },
=======
        "id": "y-RqTQFuqoMt",
        "outputId": "093bd209-3606-4991-8b7a-e6dbd9417659"
      },
      "execution_count": 11,
>>>>>>> 0ea8152df1ae8d81da05d32f1eee68da9a5f8095
      "outputs": [
        {
          "name": "stdout",
          "output_type": "stream",
          "text": [
            "Model: \"sequential\"\n",
            "_________________________________________________________________\n",
            " Layer (type)                Output Shape              Param #   \n",
            "=================================================================\n",
            " dense (Dense)               (None, 2048)              204800    \n",
            "                                                                 \n",
            " batch_normalization (Batch  (None, 2048)              8192      \n",
            " Normalization)                                                  \n",
            "                                                                 \n",
            " leaky_re_lu (LeakyReLU)     (None, 2048)              0         \n",
            "                                                                 \n",
            " reshape (Reshape)           (None, 2, 2, 512)         0         \n",
            "                                                                 \n",
<<<<<<< HEAD
            " conv2d_transpose (Conv2DTr  (None, 4, 4, 256)         3277056   \n",
            " anspose)                                                        \n",
            "                                                                 \n",
            " conv2d_transpose_1 (Conv2D  (None, 8, 8, 128)         819328    \n",
            " Transpose)                                                      \n",
            "                                                                 \n",
            " batch_normalization (Batch  (None, 8, 8, 128)         512       \n",
            " Normalization)                                                  \n",
            "                                                                 \n",
            " conv2d_transpose_2 (Conv2D  (None, 16, 16, 64)        204864    \n",
            " Transpose)                                                      \n",
            "                                                                 \n",
            " batch_normalization_1 (Bat  (None, 16, 16, 64)        256       \n",
            " chNormalization)                                                \n",
            "                                                                 \n",
            " conv2d_transpose_3 (Conv2D  (None, 32, 32, 3)         4803      \n",
            " Transpose)                                                      \n",
            "                                                                 \n",
            "=================================================================\n",
            "Total params: 4513667 (17.22 MB)\n",
            "Trainable params: 4513283 (17.22 MB)\n",
            "Non-trainable params: 384 (1.50 KB)\n",
=======
            " conv2d_transpose (Conv2DTr  (None, 4, 4, 256)         3276800   \n",
            " anspose)                                                        \n",
            "                                                                 \n",
            " batch_normalization_1 (Bat  (None, 4, 4, 256)         1024      \n",
            " chNormalization)                                                \n",
            "                                                                 \n",
            " leaky_re_lu_1 (LeakyReLU)   (None, 4, 4, 256)         0         \n",
            "                                                                 \n",
            " conv2d_transpose_1 (Conv2D  (None, 8, 8, 128)         819200    \n",
            " Transpose)                                                      \n",
            "                                                                 \n",
            " batch_normalization_2 (Bat  (None, 8, 8, 128)         512       \n",
            " chNormalization)                                                \n",
            "                                                                 \n",
            " leaky_re_lu_2 (LeakyReLU)   (None, 8, 8, 128)         0         \n",
            "                                                                 \n",
            " conv2d_transpose_2 (Conv2D  (None, 16, 16, 64)        204800    \n",
            " Transpose)                                                      \n",
            "                                                                 \n",
            " batch_normalization_3 (Bat  (None, 16, 16, 64)        256       \n",
            " chNormalization)                                                \n",
            "                                                                 \n",
            " leaky_re_lu_3 (LeakyReLU)   (None, 16, 16, 64)        0         \n",
            "                                                                 \n",
            " conv2d_transpose_3 (Conv2D  (None, 32, 32, 3)         4800      \n",
            " Transpose)                                                      \n",
            "                                                                 \n",
            "=================================================================\n",
            "Total params: 4520384 (17.24 MB)\n",
            "Trainable params: 4515392 (17.22 MB)\n",
            "Non-trainable params: 4992 (19.50 KB)\n",
>>>>>>> 0ea8152df1ae8d81da05d32f1eee68da9a5f8095
            "_________________________________________________________________\n"
          ]
        }
      ],
      "source": [
        "generator.summary()"
      ]
    },
    {
      "cell_type": "code",
      "execution_count": 9,
      "metadata": {
        "id": "_4_mZK0kYS-R"
      },
      "outputs": [],
      "source": [
        "discriminator = tf.keras.models.Sequential([\n",
        "    tf.keras.layers.Input((32, 32, 3)),\n",
        "    tf.keras.layers.Conv2D(64, (5, 5), strides=(2, 2), padding='same', use_bias=False),\n",
        "    tf.keras.layers.LeakyReLU(),\n",
        "    tf.keras.layers.Dropout(0.3),\n",
        "    tf.keras.layers.Conv2D(128, (5, 5), strides=(2, 2), padding='same', use_bias=False),\n",
        "    tf.keras.layers.LeakyReLU(),\n",
        "    tf.keras.layers.Dropout(0.3),\n",
        "    tf.keras.layers.Conv2D(256, (5, 5), strides=(2, 2), padding='same', use_bias=False),\n",
        "    tf.keras.layers.LeakyReLU(),\n",
        "    tf.keras.layers.Dropout(0.3),\n",
        "    tf.keras.layers.Flatten(),\n",
        "    tf.keras.layers.Dense(1)\n",
        "\n",
        "])"
<<<<<<< HEAD
      ]
    },
    {
      "cell_type": "code",
      "execution_count": 10,
=======
      ],
      "metadata": {
        "id": "jtpJw8MAtqjp"
      },
      "execution_count": 12,
      "outputs": []
    },
    {
      "cell_type": "code",
      "source": [
        "discriminator.build\n",
        "discriminator.summary()"
      ],
>>>>>>> 0ea8152df1ae8d81da05d32f1eee68da9a5f8095
      "metadata": {
        "colab": {
          "base_uri": "https://localhost:8080/"
        },
<<<<<<< HEAD
        "id": "1kYuRLCNdbea",
        "outputId": "9f6a68cd-207d-4e90-fdcc-7352b531ed09"
      },
=======
        "id": "whH9a6z-uMQL",
        "outputId": "0cdb67db-5649-45f1-f618-72412e71c65a"
      },
      "execution_count": 13,
>>>>>>> 0ea8152df1ae8d81da05d32f1eee68da9a5f8095
      "outputs": [
        {
          "name": "stdout",
          "output_type": "stream",
          "text": [
            "Model: \"sequential_1\"\n",
            "_________________________________________________________________\n",
            " Layer (type)                Output Shape              Param #   \n",
            "=================================================================\n",
            " conv2d (Conv2D)             (None, 16, 16, 64)        4800      \n",
            "                                                                 \n",
            " leaky_re_lu_4 (LeakyReLU)   (None, 16, 16, 64)        0         \n",
            "                                                                 \n",
            " dropout (Dropout)           (None, 16, 16, 64)        0         \n",
            "                                                                 \n",
            " conv2d_1 (Conv2D)           (None, 8, 8, 128)         204800    \n",
            "                                                                 \n",
            " leaky_re_lu_5 (LeakyReLU)   (None, 8, 8, 128)         0         \n",
            "                                                                 \n",
            " dropout_1 (Dropout)         (None, 8, 8, 128)         0         \n",
            "                                                                 \n",
            " conv2d_2 (Conv2D)           (None, 4, 4, 256)         819200    \n",
            "                                                                 \n",
            " leaky_re_lu_6 (LeakyReLU)   (None, 4, 4, 256)         0         \n",
            "                                                                 \n",
            " dropout_2 (Dropout)         (None, 4, 4, 256)         0         \n",
            "                                                                 \n",
            " flatten (Flatten)           (None, 4096)              0         \n",
            "                                                                 \n",
            " dense_1 (Dense)             (None, 1)                 4097      \n",
            "                                                                 \n",
            "=================================================================\n",
<<<<<<< HEAD
            "Total params: 4308621 (16.44 MB)\n",
            "Trainable params: 4308621 (16.44 MB)\n",
=======
            "Total params: 1032897 (3.94 MB)\n",
            "Trainable params: 1032897 (3.94 MB)\n",
>>>>>>> 0ea8152df1ae8d81da05d32f1eee68da9a5f8095
            "Non-trainable params: 0 (0.00 Byte)\n",
            "_________________________________________________________________\n"
          ]
        }
      ],
      "source": [
        "discriminator.summary()"
      ]
    },
    {
      "cell_type": "code",
<<<<<<< HEAD
      "execution_count": 11,
      "metadata": {
        "id": "euDgLqyukOMp"
      },
      "outputs": [],
      "source": [
        "generator_optimizer = tf.keras.optimizers.Adam(1e-4)\n",
        "discriminator_optimizer = tf.keras.optimizers.Adam(1e-3)"
      ]
    },
    {
      "cell_type": "markdown",
      "metadata": {
        "id": "CWO9btk05AAC"
      },
      "source": [
        "Loss \\ train definition"
      ]
    },
    {
      "cell_type": "code",
      "execution_count": 12,
=======
      "source": [
        "cross_entropy = tf.keras.losses.BinaryCrossentropy(from_logits=True)"
      ],
>>>>>>> 0ea8152df1ae8d81da05d32f1eee68da9a5f8095
      "metadata": {
        "id": "SWPc4GjJwfZ7"
      },
<<<<<<< HEAD
      "outputs": [],
      "source": [
        "cross_entropy = tf.keras.losses.BinaryCrossentropy(from_logits=True)"
      ]
=======
      "execution_count": 14,
      "outputs": []
>>>>>>> 0ea8152df1ae8d81da05d32f1eee68da9a5f8095
    },
    {
      "cell_type": "code",
      "execution_count": 13,
      "metadata": {
        "id": "moENqGT32X2i"
      },
      "outputs": [],
      "source": [
        "def discriminator_loss(real_output, fake_output):\n",
        "    real_loss = cross_entropy(tf.ones_like(real_output), real_output)\n",
        "    fake_loss = cross_entropy(tf.zeros_like(fake_output), fake_output)\n",
        "    total_loss = real_loss + fake_loss\n",
        "    return total_loss"
<<<<<<< HEAD
      ]
=======
      ],
      "metadata": {
        "id": "2-wZfy4rwQjF"
      },
      "execution_count": 15,
      "outputs": []
>>>>>>> 0ea8152df1ae8d81da05d32f1eee68da9a5f8095
    },
    {
      "cell_type": "code",
      "execution_count": 14,
      "metadata": {
        "id": "3sWxI_Ihwc17"
      },
<<<<<<< HEAD
      "outputs": [],
      "source": [
        "def generator_loss(fake_output):\n",
        "    return cross_entropy(tf.ones_like(fake_output), fake_output)"
      ]
    },
    {
      "cell_type": "markdown",
      "metadata": {
        "id": "mhxjp0ce6u4O"
      },
      "source": [
        "Train"
      ]
    },
    {
      "cell_type": "code",
      "execution_count": 15,
      "metadata": {
        "id": "U6goLM6A6uah"
      },
      "outputs": [],
      "source": [
        "epochs = 30\n",
        "seed = tf.random.normal([100, 100])"
      ]
=======
      "execution_count": 16,
      "outputs": []
>>>>>>> 0ea8152df1ae8d81da05d32f1eee68da9a5f8095
    },
    {
      "cell_type": "code",
      "execution_count": 16,
      "metadata": {
        "id": "HfQyjlot69LQ"
      },
      "outputs": [],
      "source": [
        "generator_optimizer = tf.keras.optimizers.Adam(1e-4)\n",
        "discriminator_optimizer = tf.keras.optimizers.Adam(1e-4)"
      ],
      "metadata": {
        "id": "szqNzngnwi2L"
      },
      "execution_count": 17,
      "outputs": []
    },
    {
      "cell_type": "code",
      "source": [
        "import time"
      ],
      "metadata": {
        "id": "JVtOPZudw71X"
      },
      "execution_count": 18,
      "outputs": []
    },
    {
      "cell_type": "code",
      "source": [
        "\n",
        "\n",
        "@tf.function\n",
        "def train_step(images):\n",
        "    noise = tf.random.normal([64, 100])\n",
        "\n",
        "    with tf.GradientTape() as gen_tape, tf.GradientTape() as disc_tape:\n",
        "      generated_images = generator(noise, training=True)\n",
        "\n",
        "      real_output = discriminator(images, training=True)\n",
        "      fake_output = discriminator(generated_images, training=True)\n",
        "\n",
        "      gen_loss = generator_loss(fake_output)\n",
        "      disc_loss = discriminator_loss(real_output, fake_output)\n",
        "\n",
        "    gradients_of_generator = gen_tape.gradient(gen_loss, generator.trainable_variables)\n",
        "    gradients_of_discriminator = disc_tape.gradient(disc_loss, discriminator.trainable_variables)\n",
        "\n",
        "\n",
        "    generator_optimizer.apply_gradients(zip(gradients_of_generator, generator.trainable_variables))\n",
        "    discriminator_optimizer.apply_gradients(zip(gradients_of_discriminator, discriminator.trainable_variables))\n",
<<<<<<< HEAD
        "\n"
      ]
=======
        "\n",
        "    return gen_loss, disc_loss"
      ],
      "metadata": {
        "id": "teCmybWNwuiT"
      },
      "execution_count": 19,
      "outputs": []
>>>>>>> 0ea8152df1ae8d81da05d32f1eee68da9a5f8095
    },
    {
      "cell_type": "code",
      "execution_count": 17,
      "metadata": {
        "colab": {
          "base_uri": "https://localhost:8080/"
        },
        "id": "SpEE7At1-orh",
        "outputId": "690df3c8-ef33-478f-e713-c1561985d281"
      },
      "outputs": [
        {
          "name": "stderr",
          "output_type": "stream",
          "text": [
            "c:\\python\\GitHub\\Super_resolution\\venv\\Lib\\site-packages\\keras\\src\\backend.py:5805: UserWarning: \"`binary_crossentropy` received `from_logits=True`, but the `output` argument was produced by a Sigmoid activation and thus does not represent logits. Was this intended?\n",
            "  output, from_logits = _get_logits(\n"
          ]
        },
        {
          "name": "stdout",
          "output_type": "stream",
          "text": [
            "Time for epoch 1 is 613.5584261417389 sec\n"
          ]
        },
        {
          "ename": "KeyboardInterrupt",
          "evalue": "",
          "output_type": "error",
          "traceback": [
            "\u001b[1;31m---------------------------------------------------------------------------\u001b[0m",
            "\u001b[1;31mKeyboardInterrupt\u001b[0m                         Traceback (most recent call last)",
            "\u001b[1;32mc:\\python\\GitHub\\Super_resolution\\GAN.ipynb Ячейка 19\u001b[0m line \u001b[0;36m4\n\u001b[0;32m      <a href='vscode-notebook-cell:/c%3A/python/GitHub/Super_resolution/GAN.ipynb#X24sZmlsZQ%3D%3D?line=1'>2</a>\u001b[0m     start \u001b[39m=\u001b[39m time\u001b[39m.\u001b[39mtime()\n\u001b[0;32m      <a href='vscode-notebook-cell:/c%3A/python/GitHub/Super_resolution/GAN.ipynb#X24sZmlsZQ%3D%3D?line=2'>3</a>\u001b[0m     \u001b[39mfor\u001b[39;00m batch \u001b[39min\u001b[39;00m train_dataset:\n\u001b[1;32m----> <a href='vscode-notebook-cell:/c%3A/python/GitHub/Super_resolution/GAN.ipynb#X24sZmlsZQ%3D%3D?line=3'>4</a>\u001b[0m         train_step(batch)\n\u001b[0;32m      <a href='vscode-notebook-cell:/c%3A/python/GitHub/Super_resolution/GAN.ipynb#X24sZmlsZQ%3D%3D?line=4'>5</a>\u001b[0m     \u001b[39mprint\u001b[39m (\u001b[39m'\u001b[39m\u001b[39mTime for epoch \u001b[39m\u001b[39m{}\u001b[39;00m\u001b[39m is \u001b[39m\u001b[39m{}\u001b[39;00m\u001b[39m sec\u001b[39m\u001b[39m'\u001b[39m\u001b[39m.\u001b[39mformat(epoch \u001b[39m+\u001b[39m \u001b[39m1\u001b[39m, time\u001b[39m.\u001b[39mtime()\u001b[39m-\u001b[39mstart))\n\u001b[0;32m      <a href='vscode-notebook-cell:/c%3A/python/GitHub/Super_resolution/GAN.ipynb#X24sZmlsZQ%3D%3D?line=6'>7</a>\u001b[0m generator\u001b[39m.\u001b[39msave(\u001b[39m'\u001b[39m\u001b[39m/content/models/generator\u001b[39m\u001b[39m'\u001b[39m)\n",
            "File \u001b[1;32mc:\\python\\GitHub\\Super_resolution\\venv\\Lib\\site-packages\\tensorflow\\python\\util\\traceback_utils.py:150\u001b[0m, in \u001b[0;36mfilter_traceback.<locals>.error_handler\u001b[1;34m(*args, **kwargs)\u001b[0m\n\u001b[0;32m    148\u001b[0m filtered_tb \u001b[39m=\u001b[39m \u001b[39mNone\u001b[39;00m\n\u001b[0;32m    149\u001b[0m \u001b[39mtry\u001b[39;00m:\n\u001b[1;32m--> 150\u001b[0m   \u001b[39mreturn\u001b[39;00m fn(\u001b[39m*\u001b[39;49margs, \u001b[39m*\u001b[39;49m\u001b[39m*\u001b[39;49mkwargs)\n\u001b[0;32m    151\u001b[0m \u001b[39mexcept\u001b[39;00m \u001b[39mException\u001b[39;00m \u001b[39mas\u001b[39;00m e:\n\u001b[0;32m    152\u001b[0m   filtered_tb \u001b[39m=\u001b[39m _process_traceback_frames(e\u001b[39m.\u001b[39m__traceback__)\n",
            "File \u001b[1;32mc:\\python\\GitHub\\Super_resolution\\venv\\Lib\\site-packages\\tensorflow\\python\\eager\\polymorphic_function\\polymorphic_function.py:825\u001b[0m, in \u001b[0;36mFunction.__call__\u001b[1;34m(self, *args, **kwds)\u001b[0m\n\u001b[0;32m    822\u001b[0m compiler \u001b[39m=\u001b[39m \u001b[39m\"\u001b[39m\u001b[39mxla\u001b[39m\u001b[39m\"\u001b[39m \u001b[39mif\u001b[39;00m \u001b[39mself\u001b[39m\u001b[39m.\u001b[39m_jit_compile \u001b[39melse\u001b[39;00m \u001b[39m\"\u001b[39m\u001b[39mnonXla\u001b[39m\u001b[39m\"\u001b[39m\n\u001b[0;32m    824\u001b[0m \u001b[39mwith\u001b[39;00m OptionalXlaContext(\u001b[39mself\u001b[39m\u001b[39m.\u001b[39m_jit_compile):\n\u001b[1;32m--> 825\u001b[0m   result \u001b[39m=\u001b[39m \u001b[39mself\u001b[39;49m\u001b[39m.\u001b[39;49m_call(\u001b[39m*\u001b[39;49margs, \u001b[39m*\u001b[39;49m\u001b[39m*\u001b[39;49mkwds)\n\u001b[0;32m    827\u001b[0m new_tracing_count \u001b[39m=\u001b[39m \u001b[39mself\u001b[39m\u001b[39m.\u001b[39mexperimental_get_tracing_count()\n\u001b[0;32m    828\u001b[0m without_tracing \u001b[39m=\u001b[39m (tracing_count \u001b[39m==\u001b[39m new_tracing_count)\n",
            "File \u001b[1;32mc:\\python\\GitHub\\Super_resolution\\venv\\Lib\\site-packages\\tensorflow\\python\\eager\\polymorphic_function\\polymorphic_function.py:857\u001b[0m, in \u001b[0;36mFunction._call\u001b[1;34m(self, *args, **kwds)\u001b[0m\n\u001b[0;32m    854\u001b[0m   \u001b[39mself\u001b[39m\u001b[39m.\u001b[39m_lock\u001b[39m.\u001b[39mrelease()\n\u001b[0;32m    855\u001b[0m   \u001b[39m# In this case we have created variables on the first call, so we run the\u001b[39;00m\n\u001b[0;32m    856\u001b[0m   \u001b[39m# defunned version which is guaranteed to never create variables.\u001b[39;00m\n\u001b[1;32m--> 857\u001b[0m   \u001b[39mreturn\u001b[39;00m \u001b[39mself\u001b[39;49m\u001b[39m.\u001b[39;49m_no_variable_creation_fn(\u001b[39m*\u001b[39;49margs, \u001b[39m*\u001b[39;49m\u001b[39m*\u001b[39;49mkwds)  \u001b[39m# pylint: disable=not-callable\u001b[39;00m\n\u001b[0;32m    858\u001b[0m \u001b[39melif\u001b[39;00m \u001b[39mself\u001b[39m\u001b[39m.\u001b[39m_variable_creation_fn \u001b[39mis\u001b[39;00m \u001b[39mnot\u001b[39;00m \u001b[39mNone\u001b[39;00m:\n\u001b[0;32m    859\u001b[0m   \u001b[39m# Release the lock early so that multiple threads can perform the call\u001b[39;00m\n\u001b[0;32m    860\u001b[0m   \u001b[39m# in parallel.\u001b[39;00m\n\u001b[0;32m    861\u001b[0m   \u001b[39mself\u001b[39m\u001b[39m.\u001b[39m_lock\u001b[39m.\u001b[39mrelease()\n",
            "File \u001b[1;32mc:\\python\\GitHub\\Super_resolution\\venv\\Lib\\site-packages\\tensorflow\\python\\eager\\polymorphic_function\\tracing_compiler.py:148\u001b[0m, in \u001b[0;36mTracingCompiler.__call__\u001b[1;34m(self, *args, **kwargs)\u001b[0m\n\u001b[0;32m    145\u001b[0m \u001b[39mwith\u001b[39;00m \u001b[39mself\u001b[39m\u001b[39m.\u001b[39m_lock:\n\u001b[0;32m    146\u001b[0m   (concrete_function,\n\u001b[0;32m    147\u001b[0m    filtered_flat_args) \u001b[39m=\u001b[39m \u001b[39mself\u001b[39m\u001b[39m.\u001b[39m_maybe_define_function(args, kwargs)\n\u001b[1;32m--> 148\u001b[0m \u001b[39mreturn\u001b[39;00m concrete_function\u001b[39m.\u001b[39;49m_call_flat(\n\u001b[0;32m    149\u001b[0m     filtered_flat_args, captured_inputs\u001b[39m=\u001b[39;49mconcrete_function\u001b[39m.\u001b[39;49mcaptured_inputs)\n",
            "File \u001b[1;32mc:\\python\\GitHub\\Super_resolution\\venv\\Lib\\site-packages\\tensorflow\\python\\eager\\polymorphic_function\\monomorphic_function.py:1349\u001b[0m, in \u001b[0;36mConcreteFunction._call_flat\u001b[1;34m(self, args, captured_inputs)\u001b[0m\n\u001b[0;32m   1345\u001b[0m possible_gradient_type \u001b[39m=\u001b[39m gradients_util\u001b[39m.\u001b[39mPossibleTapeGradientTypes(args)\n\u001b[0;32m   1346\u001b[0m \u001b[39mif\u001b[39;00m (possible_gradient_type \u001b[39m==\u001b[39m gradients_util\u001b[39m.\u001b[39mPOSSIBLE_GRADIENT_TYPES_NONE\n\u001b[0;32m   1347\u001b[0m     \u001b[39mand\u001b[39;00m executing_eagerly):\n\u001b[0;32m   1348\u001b[0m   \u001b[39m# No tape is watching; skip to running the function.\u001b[39;00m\n\u001b[1;32m-> 1349\u001b[0m   \u001b[39mreturn\u001b[39;00m \u001b[39mself\u001b[39m\u001b[39m.\u001b[39m_build_call_outputs(\u001b[39mself\u001b[39;49m\u001b[39m.\u001b[39;49m_inference_function(\u001b[39m*\u001b[39;49margs))\n\u001b[0;32m   1350\u001b[0m forward_backward \u001b[39m=\u001b[39m \u001b[39mself\u001b[39m\u001b[39m.\u001b[39m_select_forward_and_backward_functions(\n\u001b[0;32m   1351\u001b[0m     args,\n\u001b[0;32m   1352\u001b[0m     possible_gradient_type,\n\u001b[0;32m   1353\u001b[0m     executing_eagerly)\n\u001b[0;32m   1354\u001b[0m forward_function, args_with_tangents \u001b[39m=\u001b[39m forward_backward\u001b[39m.\u001b[39mforward()\n",
            "File \u001b[1;32mc:\\python\\GitHub\\Super_resolution\\venv\\Lib\\site-packages\\tensorflow\\python\\eager\\polymorphic_function\\atomic_function.py:196\u001b[0m, in \u001b[0;36mAtomicFunction.__call__\u001b[1;34m(self, *args)\u001b[0m\n\u001b[0;32m    194\u001b[0m \u001b[39mwith\u001b[39;00m record\u001b[39m.\u001b[39mstop_recording():\n\u001b[0;32m    195\u001b[0m   \u001b[39mif\u001b[39;00m \u001b[39mself\u001b[39m\u001b[39m.\u001b[39m_bound_context\u001b[39m.\u001b[39mexecuting_eagerly():\n\u001b[1;32m--> 196\u001b[0m     outputs \u001b[39m=\u001b[39m \u001b[39mself\u001b[39;49m\u001b[39m.\u001b[39;49m_bound_context\u001b[39m.\u001b[39;49mcall_function(\n\u001b[0;32m    197\u001b[0m         \u001b[39mself\u001b[39;49m\u001b[39m.\u001b[39;49mname,\n\u001b[0;32m    198\u001b[0m         \u001b[39mlist\u001b[39;49m(args),\n\u001b[0;32m    199\u001b[0m         \u001b[39mlen\u001b[39;49m(\u001b[39mself\u001b[39;49m\u001b[39m.\u001b[39;49mfunction_type\u001b[39m.\u001b[39;49mflat_outputs),\n\u001b[0;32m    200\u001b[0m     )\n\u001b[0;32m    201\u001b[0m   \u001b[39melse\u001b[39;00m:\n\u001b[0;32m    202\u001b[0m     outputs \u001b[39m=\u001b[39m make_call_op_in_graph(\u001b[39mself\u001b[39m, \u001b[39mlist\u001b[39m(args))\n",
            "File \u001b[1;32mc:\\python\\GitHub\\Super_resolution\\venv\\Lib\\site-packages\\tensorflow\\python\\eager\\context.py:1457\u001b[0m, in \u001b[0;36mContext.call_function\u001b[1;34m(self, name, tensor_inputs, num_outputs)\u001b[0m\n\u001b[0;32m   1455\u001b[0m cancellation_context \u001b[39m=\u001b[39m cancellation\u001b[39m.\u001b[39mcontext()\n\u001b[0;32m   1456\u001b[0m \u001b[39mif\u001b[39;00m cancellation_context \u001b[39mis\u001b[39;00m \u001b[39mNone\u001b[39;00m:\n\u001b[1;32m-> 1457\u001b[0m   outputs \u001b[39m=\u001b[39m execute\u001b[39m.\u001b[39;49mexecute(\n\u001b[0;32m   1458\u001b[0m       name\u001b[39m.\u001b[39;49mdecode(\u001b[39m\"\u001b[39;49m\u001b[39mutf-8\u001b[39;49m\u001b[39m\"\u001b[39;49m),\n\u001b[0;32m   1459\u001b[0m       num_outputs\u001b[39m=\u001b[39;49mnum_outputs,\n\u001b[0;32m   1460\u001b[0m       inputs\u001b[39m=\u001b[39;49mtensor_inputs,\n\u001b[0;32m   1461\u001b[0m       attrs\u001b[39m=\u001b[39;49mattrs,\n\u001b[0;32m   1462\u001b[0m       ctx\u001b[39m=\u001b[39;49m\u001b[39mself\u001b[39;49m,\n\u001b[0;32m   1463\u001b[0m   )\n\u001b[0;32m   1464\u001b[0m \u001b[39melse\u001b[39;00m:\n\u001b[0;32m   1465\u001b[0m   outputs \u001b[39m=\u001b[39m execute\u001b[39m.\u001b[39mexecute_with_cancellation(\n\u001b[0;32m   1466\u001b[0m       name\u001b[39m.\u001b[39mdecode(\u001b[39m\"\u001b[39m\u001b[39mutf-8\u001b[39m\u001b[39m\"\u001b[39m),\n\u001b[0;32m   1467\u001b[0m       num_outputs\u001b[39m=\u001b[39mnum_outputs,\n\u001b[1;32m   (...)\u001b[0m\n\u001b[0;32m   1471\u001b[0m       cancellation_manager\u001b[39m=\u001b[39mcancellation_context,\n\u001b[0;32m   1472\u001b[0m   )\n",
            "File \u001b[1;32mc:\\python\\GitHub\\Super_resolution\\venv\\Lib\\site-packages\\tensorflow\\python\\eager\\execute.py:53\u001b[0m, in \u001b[0;36mquick_execute\u001b[1;34m(op_name, num_outputs, inputs, attrs, ctx, name)\u001b[0m\n\u001b[0;32m     51\u001b[0m \u001b[39mtry\u001b[39;00m:\n\u001b[0;32m     52\u001b[0m   ctx\u001b[39m.\u001b[39mensure_initialized()\n\u001b[1;32m---> 53\u001b[0m   tensors \u001b[39m=\u001b[39m pywrap_tfe\u001b[39m.\u001b[39;49mTFE_Py_Execute(ctx\u001b[39m.\u001b[39;49m_handle, device_name, op_name,\n\u001b[0;32m     54\u001b[0m                                       inputs, attrs, num_outputs)\n\u001b[0;32m     55\u001b[0m \u001b[39mexcept\u001b[39;00m core\u001b[39m.\u001b[39m_NotOkStatusException \u001b[39mas\u001b[39;00m e:\n\u001b[0;32m     56\u001b[0m   \u001b[39mif\u001b[39;00m name \u001b[39mis\u001b[39;00m \u001b[39mnot\u001b[39;00m \u001b[39mNone\u001b[39;00m:\n",
            "\u001b[1;31mKeyboardInterrupt\u001b[0m: "
          ]
        }
      ],
      "source": [
        "def train(dataset, epochs):\n",
        "  for epoch in range(epochs):\n",
        "    start = time.time()\n",
        "    gen_loss_epoch = 0\n",
        "    for image_batch in dataset:\n",
        "        gen_loss, disc_loss = train_step(image_batch)\n",
        "        gen_loss_epoch += tf.keras.backend.mean(gen_loss)\n",
        "\n",
<<<<<<< HEAD
        "generator.save('/content/models/generator')\n",
        "discriminator.save('/content/models/discriminator')"
=======
        "\n",
        "\n",
        "    print('Time for epoch {} is {} sec'.format(epoch + 1, time.time()-start), \"Loss: \", gen_loss_epoch)\n",
        "\n"
      ],
      "metadata": {
        "id": "X4fU9l-Dw5N-"
      },
      "execution_count": 25,
      "outputs": []
    },
    {
      "cell_type": "code",
      "source": [
        "train(train_dataset, 30)"
      ],
      "metadata": {
        "colab": {
          "base_uri": "https://localhost:8080/"
        },
        "id": "wT03woEzxLXZ",
        "outputId": "a9314a3c-f524-4542-e722-fd04aa8adad3"
      },
      "execution_count": 26,
      "outputs": [
        {
          "output_type": "stream",
          "name": "stdout",
          "text": [
            "Time for epoch 1 is 21.696268558502197 sec Loss:  tf.Tensor(1157.9823, shape=(), dtype=float32)\n",
            "Time for epoch 2 is 21.078494548797607 sec Loss:  tf.Tensor(1322.0232, shape=(), dtype=float32)\n",
            "Time for epoch 3 is 21.406579732894897 sec Loss:  tf.Tensor(1737.3562, shape=(), dtype=float32)\n",
            "Time for epoch 4 is 21.866817474365234 sec Loss:  tf.Tensor(1679.9215, shape=(), dtype=float32)\n",
            "Time for epoch 5 is 22.196250677108765 sec Loss:  tf.Tensor(1903.7568, shape=(), dtype=float32)\n",
            "Time for epoch 6 is 22.473020315170288 sec Loss:  tf.Tensor(1963.2051, shape=(), dtype=float32)\n",
            "Time for epoch 7 is 22.25949764251709 sec Loss:  tf.Tensor(1725.7482, shape=(), dtype=float32)\n",
            "Time for epoch 8 is 22.110520839691162 sec Loss:  tf.Tensor(1236.7277, shape=(), dtype=float32)\n",
            "Time for epoch 9 is 22.16724967956543 sec Loss:  tf.Tensor(1155.669, shape=(), dtype=float32)\n",
            "Time for epoch 10 is 22.30699920654297 sec Loss:  tf.Tensor(1253.908, shape=(), dtype=float32)\n",
            "Time for epoch 11 is 22.231589317321777 sec Loss:  tf.Tensor(1105.9421, shape=(), dtype=float32)\n",
            "Time for epoch 12 is 22.168334484100342 sec Loss:  tf.Tensor(937.6734, shape=(), dtype=float32)\n",
            "Time for epoch 13 is 22.205795288085938 sec Loss:  tf.Tensor(941.92126, shape=(), dtype=float32)\n",
            "Time for epoch 14 is 22.203330278396606 sec Loss:  tf.Tensor(1036.0316, shape=(), dtype=float32)\n",
            "Time for epoch 15 is 22.197470903396606 sec Loss:  tf.Tensor(1073.5201, shape=(), dtype=float32)\n",
            "Time for epoch 16 is 22.221736907958984 sec Loss:  tf.Tensor(1056.8752, shape=(), dtype=float32)\n",
            "Time for epoch 17 is 22.250205039978027 sec Loss:  tf.Tensor(1029.4146, shape=(), dtype=float32)\n",
            "Time for epoch 18 is 22.22697114944458 sec Loss:  tf.Tensor(1015.87286, shape=(), dtype=float32)\n",
            "Time for epoch 19 is 22.256356477737427 sec Loss:  tf.Tensor(1056.9038, shape=(), dtype=float32)\n",
            "Time for epoch 20 is 22.259221076965332 sec Loss:  tf.Tensor(1158.164, shape=(), dtype=float32)\n",
            "Time for epoch 21 is 22.254870653152466 sec Loss:  tf.Tensor(1052.8258, shape=(), dtype=float32)\n",
            "Time for epoch 22 is 22.24422025680542 sec Loss:  tf.Tensor(1074.522, shape=(), dtype=float32)\n",
            "Time for epoch 23 is 22.23173236846924 sec Loss:  tf.Tensor(1056.5759, shape=(), dtype=float32)\n",
            "Time for epoch 24 is 22.21352219581604 sec Loss:  tf.Tensor(1122.7169, shape=(), dtype=float32)\n",
            "Time for epoch 25 is 22.229937314987183 sec Loss:  tf.Tensor(1070.2006, shape=(), dtype=float32)\n",
            "Time for epoch 26 is 22.237348556518555 sec Loss:  tf.Tensor(1048.9745, shape=(), dtype=float32)\n",
            "Time for epoch 27 is 22.197277069091797 sec Loss:  tf.Tensor(1082.1813, shape=(), dtype=float32)\n",
            "Time for epoch 28 is 22.20648741722107 sec Loss:  tf.Tensor(1126.6632, shape=(), dtype=float32)\n",
            "Time for epoch 29 is 22.216087579727173 sec Loss:  tf.Tensor(1094.4435, shape=(), dtype=float32)\n",
            "Time for epoch 30 is 22.203877449035645 sec Loss:  tf.Tensor(1065.7856, shape=(), dtype=float32)\n"
          ]
        }
>>>>>>> 0ea8152df1ae8d81da05d32f1eee68da9a5f8095
      ]
    },
    {
      "cell_type": "code",
<<<<<<< HEAD
      "execution_count": null,
=======
      "source": [
        "im = y_train[0]\n",
        "\n",
        "im\n",
        "plt.imshow(im)\n"
      ],
>>>>>>> 0ea8152df1ae8d81da05d32f1eee68da9a5f8095
      "metadata": {
        "id": "MafPJKrp6egS",
        "colab": {
          "base_uri": "https://localhost:8080/",
          "height": 447
        },
        "outputId": "773a1d18-8582-4f6c-c2f9-e6e293dc9f8b"
      },
<<<<<<< HEAD
=======
      "execution_count": 27,
>>>>>>> 0ea8152df1ae8d81da05d32f1eee68da9a5f8095
      "outputs": [
        {
          "data": {
            "text/plain": [
              "<matplotlib.image.AxesImage at 0x7db7f8dd5c60>"
            ]
          },
          "execution_count": 23,
          "metadata": {},
<<<<<<< HEAD
          "output_type": "execute_result"
=======
          "execution_count": 27
>>>>>>> 0ea8152df1ae8d81da05d32f1eee68da9a5f8095
        },
        {
          "data": {
            "image/png": "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",
            "text/plain": [
              "<Figure size 640x480 with 1 Axes>"
<<<<<<< HEAD
            ]
=======
            ],
            "image/png": "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\n"
>>>>>>> 0ea8152df1ae8d81da05d32f1eee68da9a5f8095
          },
          "metadata": {},
          "output_type": "display_data"
        }
      ],
      "source": [
        "noise = tf.random.normal([1, 100])\n",
        "generated_image = generator(noise, training=False)\n",
        "\n",
        "\n",
        "plt.imshow(generated_image[0, :, :, 0], )"
      ]
    },
    {
      "cell_type": "code",
<<<<<<< HEAD
      "execution_count": null,
=======
      "source": [
        "noise = tf.random.normal([1, 100])\n",
        "pred = generator(noise)[0]\n",
        "\n",
        "\n",
        "plt.imshow(pred)"
      ],
>>>>>>> 0ea8152df1ae8d81da05d32f1eee68da9a5f8095
      "metadata": {
        "id": "-g1Ffoin6uIL",
        "colab": {
          "base_uri": "https://localhost:8080/",
          "height": 485
        },
        "outputId": "84685069-3969-4d8b-87f7-de0aaf249097"
      },
<<<<<<< HEAD
      "outputs": [
        {
=======
      "execution_count": 44,
      "outputs": [
        {
          "output_type": "stream",
          "name": "stderr",
          "text": [
            "WARNING:matplotlib.image:Clipping input data to the valid range for imshow with RGB data ([0..1] for floats or [0..255] for integers).\n"
          ]
        },
        {
          "output_type": "execute_result",
>>>>>>> 0ea8152df1ae8d81da05d32f1eee68da9a5f8095
          "data": {
            "text/plain": [
              "<matplotlib.image.AxesImage at 0x7db7950a1450>"
            ]
          },
          "execution_count": 27,
          "metadata": {},
<<<<<<< HEAD
          "output_type": "execute_result"
=======
          "execution_count": 44
        },
        {
          "output_type": "display_data",
          "data": {
            "text/plain": [
              "<Figure size 640x480 with 1 Axes>"
            ],
            "image/png": "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\n"
          },
          "metadata": {}
>>>>>>> 0ea8152df1ae8d81da05d32f1eee68da9a5f8095
        }
      ],
      "source": [
        "discriminator(generated_image) > 0"
      ]
    }
  ],
  "metadata": {
    "accelerator": "GPU",
    "colab": {
      "authorship_tag": "ABX9TyOxb4FtVRzIuWIFBpNhATYa",
      "gpuType": "T4",
      "include_colab_link": true,
      "provenance": []
    },
    "kernelspec": {
      "display_name": "Python 3",
      "name": "python3"
    },
    "language_info": {
      "codemirror_mode": {
        "name": "ipython",
        "version": 3
      },
      "file_extension": ".py",
      "mimetype": "text/x-python",
      "name": "python",
      "nbconvert_exporter": "python",
      "pygments_lexer": "ipython3",
      "version": "3.11.4"
    }
  },
  "nbformat": 4,
  "nbformat_minor": 0
}

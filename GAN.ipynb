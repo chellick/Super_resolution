{
  "nbformat": 4,
  "nbformat_minor": 0,
  "metadata": {
    "colab": {
      "provenance": [],
      "gpuType": "T4",
      "authorship_tag": "ABX9TyOxb4FtVRzIuWIFBpNhATYa",
      "include_colab_link": true
    },
    "kernelspec": {
      "name": "python3",
      "display_name": "Python 3"
    },
    "language_info": {
      "name": "python"
    },
    "accelerator": "GPU"
  },
  "cells": [
    {
      "cell_type": "markdown",
      "metadata": {
        "id": "view-in-github",
        "colab_type": "text"
      },
      "source": [
        "<a href=\"https://colab.research.google.com/github/chellick/Super_resolution/blob/main/GAN.ipynb\" target=\"_parent\"><img src=\"https://colab.research.google.com/assets/colab-badge.svg\" alt=\"Open In Colab\"/></a>"
      ]
    },
    {
      "cell_type": "code",
      "source": [
        "import numpy as np\n",
        "import tensorflow as tf\n",
        "import matplotlib.pyplot as plt\n",
        "import os\n",
        "import time"
      ],
      "metadata": {
        "id": "OFsn3uIwJL8G"
      },
      "execution_count": null,
      "outputs": []
    },
    {
      "cell_type": "code",
      "source": [
        "(train_images, train_labels), (_, _) = tf.keras.datasets.cifar10.load_data()"
      ],
      "metadata": {
        "id": "hOuMc3pdJRVd",
        "colab": {
          "base_uri": "https://localhost:8080/"
        },
        "outputId": "2a3655ad-e82e-40d7-c6ff-c363c8afee23"
      },
      "execution_count": null,
      "outputs": [
        {
          "output_type": "stream",
          "name": "stdout",
          "text": [
            "Downloading data from https://www.cs.toronto.edu/~kriz/cifar-10-python.tar.gz\n",
            "170498071/170498071 [==============================] - 2s 0us/step\n"
          ]
        }
      ]
    },
    {
      "cell_type": "code",
      "source": [
        "train_images.shape"
      ],
      "metadata": {
        "colab": {
          "base_uri": "https://localhost:8080/"
        },
        "id": "-qTVbHA1FFKY",
        "outputId": "8aae83cd-c47a-4f77-e22e-3aa170909652"
      },
      "execution_count": null,
      "outputs": [
        {
          "output_type": "execute_result",
          "data": {
            "text/plain": [
              "(50000, 32, 32, 3)"
            ]
          },
          "metadata": {},
          "execution_count": 3
        }
      ]
    },
    {
      "cell_type": "code",
      "source": [
        "train_images = train_images.reshape(train_images.shape[0], 32, 32, 3).astype('float32')\n",
        "train_images = (train_images - 127.5) / 127.5  # Normalize the images to [-1, 1]"
      ],
      "metadata": {
        "id": "nIh6x2GTJyts"
      },
      "execution_count": null,
      "outputs": []
    },
    {
      "cell_type": "code",
      "source": [
        "train_dataset = tf.data.Dataset.from_tensor_slices(train_images).shuffle(60000).batch(100)"
      ],
      "metadata": {
        "id": "yR9CEXIk_Jrs"
      },
      "execution_count": null,
      "outputs": []
    },
    {
      "cell_type": "code",
      "source": [
        "generator = tf.keras.models.Sequential([\n",
        "    tf.keras.layers.Dense(2048, input_shape=(100,)),\n",
        "    tf.keras.layers.Reshape((2, 2, 512)),\n",
        "    tf.keras.layers.Conv2DTranspose(256, (5, 5,), strides=(2), padding='same'),\n",
        "    tf.keras.layers.Conv2DTranspose(128, (5, 5,), strides=(2), padding='same'),\n",
        "    tf.keras.layers.BatchNormalization(),\n",
        "    tf.keras.layers.Conv2DTranspose(64, (5, 5,), strides=(2), padding='same'),\n",
        "    tf.keras.layers.BatchNormalization(),\n",
        "    tf.keras.layers.Conv2DTranspose(3, (5, 5,), strides=(2), padding='same', activation='tanh'),\n",
        "\n",
        "])"
      ],
      "metadata": {
        "id": "rZuMxTmibxSy"
      },
      "execution_count": null,
      "outputs": []
    },
    {
      "cell_type": "code",
      "source": [
        "generator.summary()"
      ],
      "metadata": {
        "id": "b5qknOfmL7zP",
        "colab": {
          "base_uri": "https://localhost:8080/"
        },
        "outputId": "72ea29a4-14cc-4b5f-bb8c-ee89030b51dd"
      },
      "execution_count": null,
      "outputs": [
        {
          "output_type": "stream",
          "name": "stdout",
          "text": [
            "Model: \"sequential\"\n",
            "_________________________________________________________________\n",
            " Layer (type)                Output Shape              Param #   \n",
            "=================================================================\n",
            " dense (Dense)               (None, 2048)              206848    \n",
            "                                                                 \n",
            " reshape (Reshape)           (None, 2, 2, 512)         0         \n",
            "                                                                 \n",
            " conv2d_transpose (Conv2DTra  (None, 4, 4, 256)        3277056   \n",
            " nspose)                                                         \n",
            "                                                                 \n",
            " conv2d_transpose_1 (Conv2DT  (None, 8, 8, 128)        819328    \n",
            " ranspose)                                                       \n",
            "                                                                 \n",
            " batch_normalization (BatchN  (None, 8, 8, 128)        512       \n",
            " ormalization)                                                   \n",
            "                                                                 \n",
            " conv2d_transpose_2 (Conv2DT  (None, 16, 16, 64)       204864    \n",
            " ranspose)                                                       \n",
            "                                                                 \n",
            " batch_normalization_1 (Batc  (None, 16, 16, 64)       256       \n",
            " hNormalization)                                                 \n",
            "                                                                 \n",
            " conv2d_transpose_3 (Conv2DT  (None, 32, 32, 3)        4803      \n",
            " ranspose)                                                       \n",
            "                                                                 \n",
            "=================================================================\n",
            "Total params: 4,513,667\n",
            "Trainable params: 4,513,283\n",
            "Non-trainable params: 384\n",
            "_________________________________________________________________\n"
          ]
        }
      ]
    },
    {
      "cell_type": "code",
      "source": [
        "discriminator = tf.keras.models.Sequential([\n",
        "    tf.keras.layers.Dense(3, input_shape=[32, 32, 3]),\n",
        "    tf.keras.layers.Conv2D(64, (5, 5), strides=(2), padding='same'),\n",
        "    tf.keras.layers.LeakyReLU(),\n",
        "    tf.keras.layers.Conv2D(128, (5, 5), strides=(2), padding='same'),\n",
        "    tf.keras.layers.LeakyReLU(),\n",
        "    tf.keras.layers.Conv2D(256, (5, 5), strides=(2), padding='same'),\n",
        "    tf.keras.layers.LeakyReLU(),\n",
        "    tf.keras.layers.Conv2D(512, (5, 5), strides=(2), padding='same'),\n",
        "    tf.keras.layers.Flatten(),\n",
        "    tf.keras.layers.Dense(1, activation='sigmoid')\n",
        "])"
      ],
      "metadata": {
        "id": "_4_mZK0kYS-R"
      },
      "execution_count": null,
      "outputs": []
    },
    {
      "cell_type": "code",
      "source": [
        "discriminator.summary()"
      ],
      "metadata": {
        "id": "1kYuRLCNdbea",
        "colab": {
          "base_uri": "https://localhost:8080/"
        },
        "outputId": "9f6a68cd-207d-4e90-fdcc-7352b531ed09"
      },
      "execution_count": null,
      "outputs": [
        {
          "output_type": "stream",
          "name": "stdout",
          "text": [
            "Model: \"sequential_1\"\n",
            "_________________________________________________________________\n",
            " Layer (type)                Output Shape              Param #   \n",
            "=================================================================\n",
            " dense_1 (Dense)             (None, 32, 32, 3)         12        \n",
            "                                                                 \n",
            " conv2d (Conv2D)             (None, 16, 16, 64)        4864      \n",
            "                                                                 \n",
            " leaky_re_lu (LeakyReLU)     (None, 16, 16, 64)        0         \n",
            "                                                                 \n",
            " conv2d_1 (Conv2D)           (None, 8, 8, 128)         204928    \n",
            "                                                                 \n",
            " leaky_re_lu_1 (LeakyReLU)   (None, 8, 8, 128)         0         \n",
            "                                                                 \n",
            " conv2d_2 (Conv2D)           (None, 4, 4, 256)         819456    \n",
            "                                                                 \n",
            " leaky_re_lu_2 (LeakyReLU)   (None, 4, 4, 256)         0         \n",
            "                                                                 \n",
            " conv2d_3 (Conv2D)           (None, 2, 2, 512)         3277312   \n",
            "                                                                 \n",
            " flatten (Flatten)           (None, 2048)              0         \n",
            "                                                                 \n",
            " dense_2 (Dense)             (None, 1)                 2049      \n",
            "                                                                 \n",
            "=================================================================\n",
            "Total params: 4,308,621\n",
            "Trainable params: 4,308,621\n",
            "Non-trainable params: 0\n",
            "_________________________________________________________________\n"
          ]
        }
      ]
    },
    {
      "cell_type": "code",
      "source": [
        "generator_optimizer = tf.keras.optimizers.Adam(1e-4)\n",
        "discriminator_optimizer = tf.keras.optimizers.Adam(1e-3)"
      ],
      "metadata": {
        "id": "euDgLqyukOMp"
      },
      "execution_count": null,
      "outputs": []
    },
    {
      "cell_type": "markdown",
      "source": [
        "Loss \\ train definition"
      ],
      "metadata": {
        "id": "CWO9btk05AAC"
      }
    },
    {
      "cell_type": "code",
      "source": [
        "cross_entropy = tf.keras.losses.BinaryCrossentropy(from_logits=True)"
      ],
      "metadata": {
        "id": "XB0wqRMO5Z3P"
      },
      "execution_count": null,
      "outputs": []
    },
    {
      "cell_type": "code",
      "source": [
        "def discriminator_loss(real_output, fake_output):\n",
        "    real_loss = cross_entropy(tf.ones_like(real_output), real_output)\n",
        "    fake_loss = cross_entropy(tf.zeros_like(fake_output), fake_output)\n",
        "    total_loss = real_loss + fake_loss\n",
        "    return total_loss"
      ],
      "metadata": {
        "id": "moENqGT32X2i"
      },
      "execution_count": null,
      "outputs": []
    },
    {
      "cell_type": "code",
      "source": [
        "def generator_loss(fake_output):\n",
        "    return cross_entropy(tf.ones_like(fake_output), fake_output)"
      ],
      "metadata": {
        "id": "BcPuXW0o6FHU"
      },
      "execution_count": null,
      "outputs": []
    },
    {
      "cell_type": "markdown",
      "source": [
        "Train"
      ],
      "metadata": {
        "id": "mhxjp0ce6u4O"
      }
    },
    {
      "cell_type": "code",
      "source": [
        "epochs = 30\n",
        "seed = tf.random.normal([100, 100])"
      ],
      "metadata": {
        "id": "U6goLM6A6uah"
      },
      "execution_count": null,
      "outputs": []
    },
    {
      "cell_type": "code",
      "source": [
        "@tf.function\n",
        "def train_step(images):\n",
        "    noise = tf.random.normal([100, 100])\n",
        "\n",
        "    with tf.GradientTape() as gen_tape, tf.GradientTape() as disc_tape:\n",
        "        generated_images = generator(noise)\n",
        "\n",
        "        real_output = discriminator(images)\n",
        "        fake_output = discriminator(generated_images)\n",
        "\n",
        "        gen_loss = generator_loss(fake_output)\n",
        "        disc_loss = discriminator_loss(real_output, fake_output)\n",
        "\n",
        "    gradients_of_generator = gen_tape.gradient(gen_loss, generator.trainable_variables)\n",
        "    gradients_of_discriminator = disc_tape.gradient(disc_loss, discriminator.trainable_variables)\n",
        "\n",
        "    generator_optimizer.apply_gradients(zip(gradients_of_generator, generator.trainable_variables))\n",
        "    discriminator_optimizer.apply_gradients(zip(gradients_of_discriminator, discriminator.trainable_variables))\n",
        "\n"
      ],
      "metadata": {
        "id": "HfQyjlot69LQ"
      },
      "execution_count": null,
      "outputs": []
    },
    {
      "cell_type": "code",
      "source": [
        "for epoch in range(epochs):\n",
        "    start = time.time()\n",
        "    for batch in train_dataset:\n",
        "        train_step(batch)\n",
        "    print ('Time for epoch {} is {} sec'.format(epoch + 1, time.time()-start))\n",
        "\n",
        "generator.save('/content/models/generator')\n",
        "discriminator.save('/content/models/discriminator')"
      ],
      "metadata": {
        "id": "SpEE7At1-orh",
        "colab": {
          "base_uri": "https://localhost:8080/"
        },
        "outputId": "690df3c8-ef33-478f-e713-c1561985d281"
      },
      "execution_count": null,
      "outputs": [
        {
          "output_type": "stream",
          "name": "stdout",
          "text": [
            "Time for epoch 1 is 33.21180486679077 sec\n",
            "Time for epoch 2 is 32.87946271896362 sec\n",
            "Time for epoch 3 is 33.59705686569214 sec\n",
            "Time for epoch 4 is 34.162970781326294 sec\n",
            "Time for epoch 5 is 34.578983306884766 sec\n",
            "Time for epoch 6 is 34.87555742263794 sec\n",
            "Time for epoch 7 is 35.14008140563965 sec\n",
            "Time for epoch 8 is 35.344969749450684 sec\n",
            "Time for epoch 9 is 35.20082759857178 sec\n",
            "Time for epoch 10 is 35.16959547996521 sec\n",
            "Time for epoch 11 is 35.23787188529968 sec\n",
            "Time for epoch 12 is 35.18988037109375 sec\n",
            "Time for epoch 13 is 35.19250440597534 sec\n",
            "Time for epoch 14 is 35.15700578689575 sec\n",
            "Time for epoch 15 is 35.20305824279785 sec\n",
            "Time for epoch 16 is 35.174455881118774 sec\n",
            "Time for epoch 17 is 35.14554166793823 sec\n",
            "Time for epoch 18 is 35.11129093170166 sec\n",
            "Time for epoch 19 is 35.09941124916077 sec\n",
            "Time for epoch 20 is 35.120734453201294 sec\n",
            "Time for epoch 21 is 35.07215690612793 sec\n",
            "Time for epoch 22 is 35.066590547561646 sec\n",
            "Time for epoch 23 is 35.07510232925415 sec\n",
            "Time for epoch 24 is 35.05629372596741 sec\n",
            "Time for epoch 25 is 35.05191683769226 sec\n",
            "Time for epoch 26 is 35.031721353530884 sec\n",
            "Time for epoch 27 is 35.08138179779053 sec\n",
            "Time for epoch 28 is 34.98788547515869 sec\n",
            "Time for epoch 29 is 35.02975678443909 sec\n",
            "Time for epoch 30 is 35.00877022743225 sec\n",
            "Time for epoch 31 is 34.998255014419556 sec\n",
            "Time for epoch 32 is 34.99405074119568 sec\n",
            "Time for epoch 33 is 34.97751522064209 sec\n",
            "Time for epoch 34 is 34.97525358200073 sec\n",
            "Time for epoch 35 is 35.00496768951416 sec\n",
            "Time for epoch 36 is 34.9798321723938 sec\n",
            "Time for epoch 37 is 35.027360677719116 sec\n",
            "Time for epoch 38 is 34.9871985912323 sec\n",
            "Time for epoch 39 is 34.97417449951172 sec\n",
            "Time for epoch 40 is 34.94744062423706 sec\n",
            "Time for epoch 41 is 34.85659742355347 sec\n",
            "Time for epoch 42 is 35.01274299621582 sec\n",
            "Time for epoch 43 is 34.777180433273315 sec\n",
            "Time for epoch 44 is 35.05177688598633 sec\n",
            "Time for epoch 45 is 34.85253834724426 sec\n",
            "Time for epoch 46 is 34.889559507369995 sec\n",
            "Time for epoch 47 is 34.97390651702881 sec\n",
            "Time for epoch 48 is 34.8695273399353 sec\n",
            "Time for epoch 49 is 34.81696057319641 sec\n",
            "Time for epoch 50 is 34.85010266304016 sec\n",
            "Time for epoch 51 is 34.793763399124146 sec\n",
            "Time for epoch 52 is 34.83355474472046 sec\n",
            "Time for epoch 53 is 34.87123513221741 sec\n",
            "Time for epoch 54 is 34.91658687591553 sec\n",
            "Time for epoch 55 is 34.85126757621765 sec\n",
            "Time for epoch 56 is 34.8860719203949 sec\n",
            "Time for epoch 57 is 34.89916396141052 sec\n",
            "Time for epoch 58 is 34.860673904418945 sec\n",
            "Time for epoch 59 is 34.90186309814453 sec\n",
            "Time for epoch 60 is 34.91479015350342 sec\n",
            "Time for epoch 61 is 34.91683006286621 sec\n",
            "Time for epoch 62 is 34.90734839439392 sec\n",
            "Time for epoch 63 is 34.95308995246887 sec\n",
            "Time for epoch 64 is 34.88132119178772 sec\n",
            "Time for epoch 65 is 34.89833307266235 sec\n",
            "Time for epoch 66 is 34.902092695236206 sec\n",
            "Time for epoch 67 is 34.769736766815186 sec\n",
            "Time for epoch 68 is 34.811941385269165 sec\n",
            "Time for epoch 69 is 34.85108971595764 sec\n",
            "Time for epoch 70 is 34.90254044532776 sec\n",
            "Time for epoch 71 is 34.92183804512024 sec\n",
            "Time for epoch 72 is 34.893006801605225 sec\n",
            "Time for epoch 73 is 34.88688015937805 sec\n",
            "Time for epoch 74 is 34.86371064186096 sec\n",
            "Time for epoch 75 is 34.84555768966675 sec\n",
            "Time for epoch 76 is 34.86917781829834 sec\n",
            "Time for epoch 77 is 34.850826263427734 sec\n",
            "Time for epoch 78 is 34.84104800224304 sec\n",
            "Time for epoch 79 is 34.89281225204468 sec\n",
            "Time for epoch 80 is 34.83215665817261 sec\n",
            "Time for epoch 81 is 34.848881006240845 sec\n",
            "Time for epoch 82 is 34.83367848396301 sec\n",
            "Time for epoch 83 is 34.8480658531189 sec\n",
            "Time for epoch 84 is 34.82579040527344 sec\n",
            "Time for epoch 85 is 34.83135104179382 sec\n",
            "Time for epoch 86 is 34.87220096588135 sec\n",
            "Time for epoch 87 is 34.839654207229614 sec\n",
            "Time for epoch 88 is 34.82270836830139 sec\n",
            "Time for epoch 89 is 34.824668407440186 sec\n",
            "Time for epoch 90 is 34.83408308029175 sec\n",
            "Time for epoch 91 is 34.84911632537842 sec\n",
            "Time for epoch 92 is 34.84513878822327 sec\n",
            "Time for epoch 93 is 34.83275580406189 sec\n",
            "Time for epoch 94 is 34.83925199508667 sec\n",
            "Time for epoch 95 is 34.839592695236206 sec\n",
            "Time for epoch 96 is 34.83482027053833 sec\n",
            "Time for epoch 97 is 34.8090546131134 sec\n",
            "Time for epoch 98 is 34.82099151611328 sec\n",
            "Time for epoch 99 is 34.79006099700928 sec\n"
          ]
        },
        {
          "output_type": "stream",
          "name": "stderr",
          "text": [
            "WARNING:tensorflow:Compiled the loaded model, but the compiled metrics have yet to be built. `model.compile_metrics` will be empty until you train or evaluate the model.\n"
          ]
        },
        {
          "output_type": "stream",
          "name": "stdout",
          "text": [
            "Time for epoch 100 is 34.807111501693726 sec\n"
          ]
        },
        {
          "output_type": "stream",
          "name": "stderr",
          "text": [
            "WARNING:absl:Found untraced functions such as _jit_compiled_convolution_op, _jit_compiled_convolution_op, _jit_compiled_convolution_op, _jit_compiled_convolution_op while saving (showing 4 of 4). These functions will not be directly callable after loading.\n",
            "WARNING:tensorflow:Compiled the loaded model, but the compiled metrics have yet to be built. `model.compile_metrics` will be empty until you train or evaluate the model.\n",
            "WARNING:absl:Found untraced functions such as _jit_compiled_convolution_op, _jit_compiled_convolution_op, _jit_compiled_convolution_op, _jit_compiled_convolution_op while saving (showing 4 of 4). These functions will not be directly callable after loading.\n"
          ]
        }
      ]
    },
    {
      "cell_type": "code",
      "source": [
        "noise = tf.random.normal([1, 100])\n",
        "generated_image = generator(noise, training=False)\n",
        "\n",
        "\n",
        "plt.imshow(generated_image[0, :, :, 0], )"
      ],
      "metadata": {
        "colab": {
          "base_uri": "https://localhost:8080/",
          "height": 447
        },
        "id": "ludUrARTAItF",
        "outputId": "cb597aaf-c7c2-4f82-eb0e-e9b46368202a"
      },
      "execution_count": null,
      "outputs": [
        {
          "output_type": "execute_result",
          "data": {
            "text/plain": [
              "<matplotlib.image.AxesImage at 0x78bb10428e20>"
            ]
          },
          "metadata": {},
          "execution_count": 23
        },
        {
          "output_type": "display_data",
          "data": {
            "text/plain": [
              "<Figure size 640x480 with 1 Axes>"
            ],
            "image/png": "[encoded data removed]"
          },
          "metadata": {}
        }
      ]
    },
    {
      "cell_type": "code",
      "source": [
        "discriminator(generated_image) > 0"
      ],
      "metadata": {
        "colab": {
          "base_uri": "https://localhost:8080/"
        },
        "id": "eObC1SXY2SG1",
        "outputId": "b369f8a6-a69a-418a-9c11-7f1af947daa6"
      },
      "execution_count": null,
      "outputs": [
        {
          "output_type": "execute_result",
          "data": {
            "text/plain": [
              "<tf.Tensor: shape=(1, 1), dtype=bool, numpy=array([[ True]])>"
            ]
          },
          "metadata": {},
          "execution_count": 27
        }
      ]
    }
  ]
}
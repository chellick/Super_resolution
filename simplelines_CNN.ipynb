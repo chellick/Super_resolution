{
  "nbformat": 4,
  "nbformat_minor": 0,
  "metadata": {
    "colab": {
      "provenance": [],
      "gpuType": "T4",
      "include_colab_link": true
    },
    "kernelspec": {
      "name": "python3",
      "display_name": "Python 3"
    },
    "language_info": {
      "name": "python"
    },
    "accelerator": "GPU"
  },
  "cells": [
    {
      "cell_type": "markdown",
      "metadata": {
        "id": "view-in-github",
        "colab_type": "text"
      },
      "source": [
        "<a href=\"https://colab.research.google.com/github/chellick/Super_resolution/blob/main/simplelines_CNN.ipynb\" target=\"_parent\"><img src=\"https://colab.research.google.com/assets/colab-badge.svg\" alt=\"Open In Colab\"/></a>"
      ]
    },
    {
      "cell_type": "code",
      "execution_count": null,
      "metadata": {
        "id": "k8o4_0gn5WZ5"
      },
      "outputs": [],
      "source": [
        "import numpy as np\n",
        "import tensorflow as tf\n",
        "import matplotlib.pyplot as plt\n",
        "from google.colab import drive\n",
        "import cv2\n",
        "import os\n",
        "import sys\n",
        "from PIL import Image, ImageDraw\n",
        "import random"
      ]
    },
    {
      "cell_type": "code",
      "source": [
        "drive.mount(\"/content/drive\", force_remount=True)"
      ],
      "metadata": {
        "colab": {
          "base_uri": "https://localhost:8080/"
        },
        "id": "ug70H119Euey",
        "outputId": "4e4afa31-fc57-4c45-d6ba-1fef4a2eaf90"
      },
      "execution_count": null,
      "outputs": [
        {
          "output_type": "stream",
          "name": "stdout",
          "text": [
            "Mounted at /content/drive\n"
          ]
        }
      ]
    },
    {
      "cell_type": "code",
      "source": [
        "image = Image.new('RGB', (100, 100), 'black')\n",
        "image.save(\"drive/MyDrive/Colab Notebooks/datasets/simplelines/main.png\")"
      ],
      "metadata": {
        "id": "fQAzFYrIq7Qp"
      },
      "execution_count": null,
      "outputs": []
    },
    {
      "cell_type": "code",
      "source": [
        "def create_dataset(size):\n",
        "    for i in range(size):\n",
        "        with Image.open(\"drive/MyDrive/Colab Notebooks/datasets/simplelines/main.png\") as im:\n",
        "            draw = ImageDraw.Draw(im)\n",
        "            draw.line(((0, random.randint(1, im.size[0])), (random.randint(1, im.size[1]), 0)) + im.size, width=2, fill=128)\n",
        "            hr = im\n",
        "            hr.save(f\"drive/MyDrive/Colab Notebooks/datasets/simplelines/hr/{i}.png\")\n",
        "\n",
        "\n",
        "create_dataset(1000)"
      ],
      "metadata": {
        "id": "PTf9H-npk_8d"
      },
      "execution_count": null,
      "outputs": []
    },
    {
      "cell_type": "code",
      "source": [
        "os.listdir('drive/MyDrive/Colab Notebooks/datasets/simplelines')"
      ],
      "metadata": {
        "colab": {
          "base_uri": "https://localhost:8080/"
        },
        "id": "h6KqkfGbFgKK",
        "outputId": "113f0b51-b384-4518-d3ab-7ed0defc6221"
      },
      "execution_count": null,
      "outputs": [
        {
          "output_type": "execute_result",
          "data": {
            "text/plain": [
              "['script.py', 'hr', 'main.png']"
            ]
          },
          "metadata": {},
          "execution_count": 4
        }
      ]
    },
    {
      "cell_type": "code",
      "source": [
        "data_path = 'drive/MyDrive/Colab Notebooks/datasets/simplelines/'"
      ],
      "metadata": {
        "id": "gUdXqjLaFEfs"
      },
      "execution_count": null,
      "outputs": []
    },
    {
      "cell_type": "code",
      "source": [
        "def load_data(name, path):\n",
        "    dataset = []\n",
        "    data_path = path + name\n",
        "\n",
        "\n",
        "    c = 0\n",
        "    for file_name in os.listdir(data_path):\n",
        "        img = cv2.imread(os.path.join(data_path, file_name))\n",
        "        img = np.array(img)\n",
        "        dataset.append(img)\n",
        "        if c == 1000:\n",
        "            break\n",
        "        c += 1\n",
        "\n",
        "    return np.array(dataset)\n",
        "\n",
        "hr = load_data('hr', data_path)\n",
        "# lr = load_data('lr', data_path)"
      ],
      "metadata": {
        "id": "f8OAOpPf6NpC"
      },
      "execution_count": null,
      "outputs": []
    },
    {
      "cell_type": "code",
      "source": [
        "y_train = hr[np.random.choice(hr.shape[0], size=1000, replace=False)]\n",
        "y_train = y_train.astype('float32') / 255.0\n",
        "# y_test = y_test.astype('float32') / 25.0"
      ],
      "metadata": {
        "id": "Bj02UJiJ8_1b"
      },
      "execution_count": null,
      "outputs": []
    },
    {
      "cell_type": "code",
      "source": [
        "y_train.shape"
      ],
      "metadata": {
        "id": "jmjBnaaO9Gax",
        "colab": {
          "base_uri": "https://localhost:8080/"
        },
        "outputId": "a3a26d3f-a016-4482-9e7b-b20f072f7c71"
      },
      "execution_count": null,
      "outputs": [
        {
          "output_type": "execute_result",
          "data": {
            "text/plain": [
              "(1000, 100, 100, 3)"
            ]
          },
          "metadata": {},
          "execution_count": 8
        }
      ]
    },
    {
      "cell_type": "code",
      "source": [
        "x_train = tf.image.resize(y_train, (y_train.shape[1] // 2 // 2, y_train.shape[2] // 2 // 2))"
      ],
      "metadata": {
        "id": "UZZICYYzGGy4"
      },
      "execution_count": null,
      "outputs": []
    },
    {
      "cell_type": "code",
      "source": [
        "plt.save(x_train[0], \"\")"
      ],
      "metadata": {
        "id": "8chc732tRAIa"
      },
      "execution_count": null,
      "outputs": []
    },
    {
      "cell_type": "code",
      "source": [
        "x_train.shape, y_train.shape"
      ],
      "metadata": {
        "id": "GoG0tnabxVlW",
        "colab": {
          "base_uri": "https://localhost:8080/"
        },
        "outputId": "8df12fb4-0ac0-4897-a038-e63890cec6b2"
      },
      "execution_count": null,
      "outputs": [
        {
          "output_type": "execute_result",
          "data": {
            "text/plain": [
              "(TensorShape([1000, 25, 25, 3]), (1000, 100, 100, 3))"
            ]
          },
          "metadata": {},
          "execution_count": 11
        }
      ]
    },
    {
      "cell_type": "code",
      "source": [
        "model = tf.keras.models.Sequential([\n",
        "    tf.keras.layers.Conv2DTranspose(3, (3, 3), (2, 2), padding=\"same\", use_bias=False, input_shape=(25, 25, 3)),\n",
        "    tf.keras.layers.UpSampling2D((2, 2)),\n",
        "    tf.keras.layers.UpSampling2D((2, 2)),\n",
        "    tf.keras.layers.UpSampling2D((2, 2)),\n",
        "    tf.keras.layers.MaxPool2D(strides=(2, 2)),\n",
        "    tf.keras.layers.Conv2D(3, (3,3), (2, 2), padding=\"same\", use_bias=False),\n",
        "    tf.keras.layers.Conv2D(3, (3,3), padding=\"same\", use_bias=False),\n",
        "    # tf.keras.layers.Dropout(0.2),\n",
        "    tf.keras.layers.Activation(activation='relu')\n",
        "])"
      ],
      "metadata": {
        "id": "bZ3RyT_kGZN7"
      },
      "execution_count": null,
      "outputs": []
    },
    {
      "cell_type": "code",
      "source": [
        "model = tf.keras.models.Sequential([\n",
        "    tf.keras.layers.Conv2D(64, 3, padding='same', activation='relu', input_shape=(25, 25, 3)),\n",
        "    tf.keras.layers.Conv2D(64, 3, padding='same', activation='relu'),\n",
        "    tf.keras.layers.UpSampling2D(size=(2, 2)),\n",
        "    tf.keras.layers.Conv2D(64, 3, padding='same', activation='relu'),\n",
        "    tf.keras.layers.UpSampling2D(size=(2, 2)),\n",
        "    tf.keras.layers.Conv2D(64, 3, padding='same', activation='relu'),\n",
        "    tf.keras.layers.Conv2D(3, 3, padding='same', activation='relu'),\n",
        "])"
      ],
      "metadata": {
        "id": "L9A7c73E8pAR"
      },
      "execution_count": null,
      "outputs": []
    },
    {
      "cell_type": "code",
      "source": [
        "#  for force-refit\n",
        "\n",
        "model = tf.keras.models.load_model('drive/MyDrive/Colab Notebooks/models/CNN/model/my_model.h5')\n",
        "model.load_weights('drive/MyDrive/Colab Notebooks/models/CNN/model/my_model_weights.h5')"
      ],
      "metadata": {
        "id": "CbwMpYlZbe34"
      },
      "execution_count": null,
      "outputs": []
    },
    {
      "cell_type": "code",
      "source": [
        "model.compile(optimizer='adam', loss='mean_squared_error')\n",
        "model.build()"
      ],
      "metadata": {
        "id": "_yAOr7mBGlwq"
      },
      "execution_count": null,
      "outputs": []
    },
    {
      "cell_type": "code",
      "source": [
        "model.summary()"
      ],
      "metadata": {
        "id": "xf4bb2SGGm4t",
        "colab": {
          "base_uri": "https://localhost:8080/"
        },
        "outputId": "e87c26dc-2534-4716-bb09-74dff5c167f1"
      },
      "execution_count": null,
      "outputs": [
        {
          "output_type": "stream",
          "name": "stdout",
          "text": [
            "Model: \"sequential_13\"\n",
            "_________________________________________________________________\n",
            " Layer (type)                Output Shape              Param #   \n",
            "=================================================================\n",
            " conv2d_43 (Conv2D)          (None, 25, 25, 64)        1792      \n",
            "                                                                 \n",
            " conv2d_44 (Conv2D)          (None, 25, 25, 64)        36928     \n",
            "                                                                 \n",
            " up_sampling2d_32 (UpSampli  (None, 50, 50, 64)        0         \n",
            " ng2D)                                                           \n",
            "                                                                 \n",
            " conv2d_45 (Conv2D)          (None, 50, 50, 64)        36928     \n",
            "                                                                 \n",
            " up_sampling2d_33 (UpSampli  (None, 100, 100, 64)      0         \n",
            " ng2D)                                                           \n",
            "                                                                 \n",
            " conv2d_46 (Conv2D)          (None, 100, 100, 64)      36928     \n",
            "                                                                 \n",
            " conv2d_47 (Conv2D)          (None, 100, 100, 3)       1731      \n",
            "                                                                 \n",
            "=================================================================\n",
            "Total params: 114307 (446.51 KB)\n",
            "Trainable params: 114307 (446.51 KB)\n",
            "Non-trainable params: 0 (0.00 Byte)\n",
            "_________________________________________________________________\n"
          ]
        }
      ]
    },
    {
      "cell_type": "code",
      "source": [
        "model.fit(x_train, y_train, batch_size=64, epochs=100, validation_split=0.1)"
      ],
      "metadata": {
        "id": "fJw5YJkoGpv0"
      },
      "execution_count": null,
      "outputs": []
    },
    {
      "cell_type": "code",
      "source": [
        "model.save('drive/MyDrive/Colab Notebooks/models/CNN/model/my_model.h5')\n",
        "model.save_weights('drive/MyDrive/Colab Notebooks/models/CNN/model/my_model_weights.h5')"
      ],
      "metadata": {
        "id": "zQdhShYEZyXI"
      },
      "execution_count": null,
      "outputs": []
    },
    {
      "cell_type": "code",
      "source": [
        "pred = np.array(model(x_train[0:1]))\n",
        "pred.shape"
      ],
      "metadata": {
        "id": "GSLYv2O-HD3A",
        "colab": {
          "base_uri": "https://localhost:8080/"
        },
        "outputId": "f12f8ef4-2512-4e03-b6b4-dfbd87edc9a1"
      },
      "execution_count": null,
      "outputs": [
        {
          "output_type": "execute_result",
          "data": {
            "text/plain": [
              "(1, 100, 100, 3)"
            ]
          },
          "metadata": {},
          "execution_count": 116
        }
      ]
    },
    {
      "cell_type": "code",
      "source": [
        "plt.imsave('drive/MyDrive/images/pred.png', pred[0])\n",
        "plt.imsave('drive/MyDrive/images/lr.png', np.array(x_train[0]))\n",
        "plt.imsave('drive/MyDrive/images/hr.png', np.array(y_train[0]))"
      ],
      "metadata": {
        "id": "lIKfqHlDIHCG"
      },
      "execution_count": null,
      "outputs": []
    },
    {
      "cell_type": "code",
      "source": [
        "x_train_img = x_train[0]\n",
        "y_train_mask = y_train[0]\n",
        "predicted_mask = pred[0]\n",
        "\n",
        "fig, axs = plt.subplots(1, 3, figsize=(15, 5))\n",
        "\n",
        "axs[0].imshow(x_train_img, cmap='gray')\n",
        "axs[0].set_title('Исходное изображение')\n",
        "axs[0].axis('off')\n",
        "\n",
        "axs[1].imshow(y_train_mask, cmap='gray')\n",
        "axs[1].set_title('Истинная маска')\n",
        "axs[1].axis('off')\n",
        "\n",
        "axs[2].imshow(predicted_mask, cmap='gray')\n",
        "axs[2].set_title('Предсказанная маска')\n",
        "axs[2].axis('off')\n",
        "\n",
        "plt.tight_layout()\n",
        "plt.show()"
      ],
      "metadata": {
        "id": "yZ1AaMIIa_EV",
        "colab": {
          "base_uri": "https://localhost:8080/",
          "height": 504
        },
        "outputId": "0b27c815-9362-48b1-8af9-20d00e0ceb65"
      },
      "execution_count": null,
      "outputs": [
        {
          "output_type": "display_data",
          "data": {
            "text/plain": [
              "<Figure size 1500x500 with 3 Axes>"
            ],
            "image/png": "[encoded data removed]"
          },
          "metadata": {}
        }
      ]
    }
  ]
}
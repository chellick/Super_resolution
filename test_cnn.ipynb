{
 "cells": [
  {
   "cell_type": "code",
   "execution_count": 1,
   "metadata": {},
   "outputs": [],
   "source": [
    "import tensorflow as tf\n",
    "import numpy as np\n",
    "import matplotlib.pyplot as plt\n",
    "import os\n",
    "import cv2\n",
    "import tqdm"
   ]
  },
  {
   "cell_type": "code",
   "execution_count": 2,
   "metadata": {},
   "outputs": [],
   "source": [
    "data_path = 'datasets/simplelines/'\n",
    "\n",
    "\n",
    "def load_data(name, path):\n",
    "    dataset = []\n",
    "    data_path = path + name\n",
    "    \n",
    "    \n",
    "    \n",
    "    for file_name in os.listdir(data_path):\n",
    "        img = cv2.imread(os.path.join(data_path, file_name))\n",
    "        img = np.array(img)\n",
    "        dataset.append(img)\n",
    "        \n",
    "    return np.array(dataset)\n",
    "\n",
    "hr = load_data('hr', data_path)\n",
    "lr = load_data('lr', data_path)\n"
   ]
  },
  {
   "cell_type": "code",
   "execution_count": 3,
   "metadata": {},
   "outputs": [],
   "source": [
    "x_train, x_test = lr[:int(lr.shape[0] * 0.7)], lr[int(lr.shape[0] * 0.7):]\n",
    "y_train, y_test = hr[:int(hr.shape[0] * 0.7)], hr[int(hr.shape[0] * 0.7):]\n",
    "\n",
    "batch_size = 32"
   ]
  },
  {
   "cell_type": "markdown",
   "metadata": {},
   "source": [
    "Unneccessary"
   ]
  },
  {
   "cell_type": "code",
   "execution_count": 4,
   "metadata": {},
   "outputs": [],
   "source": [
    "# x_train = tf.data.Dataset.from_tensor_slices(x_train).batch(32)\n",
    "# x_test = tf.data.Dataset.from_tensor_slices(x_test).batch(32)\n"
   ]
  },
  {
   "cell_type": "code",
   "execution_count": 27,
   "metadata": {},
   "outputs": [],
   "source": [
    "model = tf.keras.models.Sequential([\n",
    "    tf.keras.layers.Input((100, 100, 3)),\n",
    "    tf.keras.layers.Conv2D(1, (4, 4), padding='same', activation='relu'),\n",
    "    tf.keras.layers.BatchNormalization(),\n",
    "    tf.keras.layers.Dropout(0.1),\n",
    "    tf.keras.layers.UpSampling2D(size=(2, 2)),\n",
    "    tf.keras.layers.Conv2D(1, (4, 4), padding='same', activation='relu'),\n",
    "    tf.keras.layers.BatchNormalization(),\n",
    "    tf.keras.layers.Dropout(0.1),\n",
    "    tf.keras.layers.UpSampling2D(size=(2, 2)),\n",
    "    tf.keras.layers.Conv2D(1, (4, 4), padding='same', activation='relu'),\n",
    "    tf.keras.layers.BatchNormalization(),\n",
    "    tf.keras.layers.Dropout(0.1),\n",
    "    tf.keras.layers.experimental.preprocessing.Resizing(500, 500, interpolation='bilinear'),\n",
    "    tf.keras.layers.UpSampling2D(size=(2, 2)),\n",
    "    tf.keras.layers.Conv2D(1, (4, 4), padding='same', activation='relu'),\n",
    "    tf.keras.layers.BatchNormalization(),\n",
    "    tf.keras.layers.Dropout(0.1),\n",
    "    tf.keras.layers.Conv2D(3, 3, padding='same', activation='relu')\n",
    "    \n",
    "])\n"
   ]
  },
  {
   "cell_type": "code",
   "execution_count": 54,
   "metadata": {},
   "outputs": [],
   "source": [
    "model = tf.keras.models.Sequential([\n",
    "    tf.keras.layers.Input((100, 100, 3)),\n",
    "    tf.keras.layers.Conv2DTranspose(1, (3, 3), padding='same', activation='relu'),\n",
    "    tf.keras.layers.Conv2DTranspose(1, (3, 3), padding='same', activation='relu'),\n",
    "    tf.keras.layers.Conv2DTranspose(1, (5, 5), padding='same', activation='relu'),\n",
    "    tf.keras.layers.UpSampling2D((5, 5)),\n",
    "    tf.keras.layers.Conv2DTranspose(1, (3, 3), padding='same', activation='relu'),\n",
    "    tf.keras.layers.Conv2DTranspose(1, (3, 3), padding='same', activation='relu'),\n",
    "    tf.keras.layers.Conv2DTranspose(1, (5, 5), padding='same', activation='relu'),\n",
    "    tf.keras.layers.UpSampling2D((2, 2)),\n",
    "    tf.keras.layers.Conv2DTranspose(3, (3, 3), padding='same', activation='relu'),\n",
    "    tf.keras.layers.Conv2DTranspose(3, (3, 3), padding='same', activation='relu'),\n",
    "    tf.keras.layers.Conv2DTranspose(3, (5, 5), padding='same', activation='relu'),\n",
    "\n",
    "])"
   ]
  },
  {
   "cell_type": "code",
   "execution_count": 55,
   "metadata": {},
   "outputs": [],
   "source": [
    "model.compile(optimizer='adam', loss='mean_squared_error')"
   ]
  },
  {
   "cell_type": "code",
   "execution_count": 56,
   "metadata": {},
   "outputs": [
    {
     "name": "stdout",
     "output_type": "stream",
     "text": [
      "Model: \"sequential_15\"\n",
      "_________________________________________________________________\n",
      " Layer (type)                Output Shape              Param #   \n",
      "=================================================================\n",
      " conv2d_transpose_30 (Conv2  (None, 100, 100, 1)       28        \n",
      " DTranspose)                                                     \n",
      "                                                                 \n",
      " conv2d_transpose_31 (Conv2  (None, 100, 100, 1)       10        \n",
      " DTranspose)                                                     \n",
      "                                                                 \n",
      " conv2d_transpose_32 (Conv2  (None, 100, 100, 1)       26        \n",
      " DTranspose)                                                     \n",
      "                                                                 \n",
      " up_sampling2d_15 (UpSampli  (None, 500, 500, 1)       0         \n",
      " ng2D)                                                           \n",
      "                                                                 \n",
      " conv2d_transpose_33 (Conv2  (None, 500, 500, 1)       10        \n",
      " DTranspose)                                                     \n",
      "                                                                 \n",
      " conv2d_transpose_34 (Conv2  (None, 500, 500, 1)       10        \n",
      " DTranspose)                                                     \n",
      "                                                                 \n",
      " conv2d_transpose_35 (Conv2  (None, 500, 500, 1)       26        \n",
      " DTranspose)                                                     \n",
      "                                                                 \n",
      " up_sampling2d_16 (UpSampli  (None, 1000, 1000, 1)     0         \n",
      " ng2D)                                                           \n",
      "                                                                 \n",
      " conv2d_transpose_36 (Conv2  (None, 1000, 1000, 3)     30        \n",
      " DTranspose)                                                     \n",
      "                                                                 \n",
      " conv2d_transpose_37 (Conv2  (None, 1000, 1000, 3)     84        \n",
      " DTranspose)                                                     \n",
      "                                                                 \n",
      " conv2d_transpose_38 (Conv2  (None, 1000, 1000, 3)     228       \n",
      " DTranspose)                                                     \n",
      "                                                                 \n",
      "=================================================================\n",
      "Total params: 452 (1.77 KB)\n",
      "Trainable params: 452 (1.77 KB)\n",
      "Non-trainable params: 0 (0.00 Byte)\n",
      "_________________________________________________________________\n"
     ]
    }
   ],
   "source": [
    "model.summary()"
   ]
  },
  {
   "cell_type": "code",
   "execution_count": null,
   "metadata": {},
   "outputs": [],
   "source": [
    "model.fit(x_train, y_train, batch_size=32, epochs=5, validation_split=0.1)"
   ]
  },
  {
   "cell_type": "code",
   "execution_count": 58,
   "metadata": {},
   "outputs": [
    {
     "name": "stdout",
     "output_type": "stream",
     "text": [
      "INFO:tensorflow:Assets written to: models/CNN/assets\n"
     ]
    },
    {
     "name": "stderr",
     "output_type": "stream",
     "text": [
      "INFO:tensorflow:Assets written to: models/CNN/assets\n"
     ]
    }
   ],
   "source": [
    "model.save_weights(\"models/CNN/\")\n",
    "model.save(\"models/CNN/\")"
   ]
  },
  {
   "cell_type": "code",
   "execution_count": 16,
   "metadata": {},
   "outputs": [],
   "source": [
    "pred = np.array(model(x_test[1:1+1:]))\n"
   ]
  },
  {
   "cell_type": "code",
   "execution_count": 17,
   "metadata": {},
   "outputs": [
    {
     "name": "stderr",
     "output_type": "stream",
     "text": [
      "Clipping input data to the valid range for imshow with RGB data ([0..1] for floats or [0..255] for integers).\n"
     ]
    },
    {
     "data": {
      "image/png": "[encoded data removed]",
      "text/plain": [
       "<Figure size 640x480 with 1 Axes>"
      ]
     },
     "metadata": {},
     "output_type": "display_data"
    }
   ],
   "source": [
    "plt.imshow(pred[0])\n",
    "plt.show()\n"
   ]
  }
 ],
 "metadata": {
  "kernelspec": {
   "display_name": "venv",
   "language": "python",
   "name": "python3"
  },
  "language_info": {
   "codemirror_mode": {
    "name": "ipython",
    "version": 3
   },
   "file_extension": ".py",
   "mimetype": "text/x-python",
   "name": "python",
   "nbconvert_exporter": "python",
   "pygments_lexer": "ipython3",
   "version": "3.11.4"
  }
 },
 "nbformat": 4,
 "nbformat_minor": 2
}
